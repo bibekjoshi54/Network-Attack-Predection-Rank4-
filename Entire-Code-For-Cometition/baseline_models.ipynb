{
 "cells": [
  {
   "cell_type": "markdown",
   "metadata": {},
   "source": [
    "This notebook will help you get started solving the given problem. In this challenge, we have to predict the attack type. "
   ]
  },
  {
   "cell_type": "code",
   "execution_count": 1,
   "metadata": {
    "collapsed": true
   },
   "outputs": [],
   "source": [
    "import pandas as pd\n",
    "import numpy as np\n",
    "from matplotlib import pyplot as plt\n",
    "pd.set_option('display.max_columns', 1000)"
   ]
  },
  {
   "cell_type": "code",
   "execution_count": 2,
   "metadata": {
    "collapsed": true
   },
   "outputs": [],
   "source": [
    "train = pd.read_csv('../Data/train_data.csv')\n",
    "test = pd.read_csv('../Data/test_data.csv')"
   ]
  },
  {
   "cell_type": "code",
   "execution_count": 3,
   "metadata": {},
   "outputs": [
    {
     "name": "stdout",
     "output_type": "stream",
     "text": [
      "The train data has 169307 rows and 43 columns\n",
      "The test data has 91166 rows and 42 columns\n"
     ]
    }
   ],
   "source": [
    "print('The train data has {} rows and {} columns'.format(train.shape[0], train.shape[1]))\n",
    "print('The test data has {} rows and {} columns'.format(test.shape[0], test.shape[1]))"
   ]
  },
  {
   "cell_type": "code",
   "execution_count": 4,
   "metadata": {},
   "outputs": [
    {
     "data": {
      "text/plain": [
       "0    0.583957\n",
       "2    0.217676\n",
       "1    0.198367\n",
       "Name: target, dtype: float64"
      ]
     },
     "execution_count": 4,
     "metadata": {},
     "output_type": "execute_result"
    }
   ],
   "source": [
    "## check target class\n",
    "train['target'].value_counts(normalize=True)"
   ]
  },
  {
   "cell_type": "code",
   "execution_count": 5,
   "metadata": {
    "collapsed": true
   },
   "outputs": [],
   "source": [
    "#print(train.corr()['target'])"
   ]
  },
  {
   "cell_type": "markdown",
   "metadata": {},
   "source": [
    "There aren't any missing values. Let's jump to building models to get some baseline score."
   ]
  },
  {
   "cell_type": "code",
   "execution_count": 6,
   "metadata": {
    "collapsed": true,
    "scrolled": false
   },
   "outputs": [],
   "source": [
    "## check missing values\n",
    "#train.isnull().sum(axis=0) ## there are no missing values."
   ]
  },
  {
   "cell_type": "markdown",
   "metadata": {},
   "source": [
    "# Preprocessing after Visualization"
   ]
  },
  {
   "cell_type": "code",
   "execution_count": 7,
   "metadata": {
    "collapsed": true
   },
   "outputs": [],
   "source": [
    "#Drop 'cat_4','cat_5','cat_6','cat_7','cat_8','cat_11','cat_12','cat_15','cat_17','cat_18' columns\n",
    "train=train.drop(['cat_4','cat_5','cat_6','cat_7','cat_8','cat_11','cat_12','cat_15','cat_17','cat_18'],1)\n",
    "test=test.drop(['cat_4','cat_5','cat_6','cat_7','cat_8','cat_11','cat_12','cat_15','cat_17','cat_18'],1)"
   ]
  },
  {
   "cell_type": "code",
   "execution_count": 8,
   "metadata": {
    "collapsed": true
   },
   "outputs": [],
   "source": [
    "from sklearn.preprocessing import MinMaxScaler"
   ]
  },
  {
   "cell_type": "code",
   "execution_count": 9,
   "metadata": {
    "collapsed": true
   },
   "outputs": [],
   "source": [
    "scale=MinMaxScaler()\n",
    "li=[]\n",
    "for i in train.columns:\n",
    "    if 'cont' in i:\n",
    "        li.append(i)\n",
    "# scaled_train_data=scale.fit_transform(train[li])\n",
    "# scaled_test_data=scale.fit_transform(test[li])"
   ]
  },
  {
   "cell_type": "code",
   "execution_count": 10,
   "metadata": {
    "collapsed": true
   },
   "outputs": [],
   "source": [
    "# scaled_train_data=pd.DataFrame(scaled_train_data,columns=li)\n",
    "# scaled_test_data=pd.DataFrame(scaled_test_data,columns=li)\n",
    "# print(scaled_train_data.shape,scaled_test_data.shape)"
   ]
  },
  {
   "cell_type": "code",
   "execution_count": 11,
   "metadata": {},
   "outputs": [
    {
     "name": "stdout",
     "output_type": "stream",
     "text": [
      "['cont_1', 'cont_2', 'cont_3', 'cont_4', 'cont_5', 'cont_6', 'cont_7', 'cont_8', 'cont_9', 'cont_10', 'cont_11', 'cont_12', 'cont_13', 'cont_14', 'cont_15', 'cont_16', 'cont_17', 'cont_18']\n"
     ]
    }
   ],
   "source": [
    "print(li)"
   ]
  },
  {
   "cell_type": "code",
   "execution_count": 12,
   "metadata": {
    "collapsed": true
   },
   "outputs": [],
   "source": [
    "# for i in li:\n",
    "#     train[i]=scaled_train_data[i].values\n",
    "#     test[i]=scaled_test_data[i].values"
   ]
  },
  {
   "cell_type": "code",
   "execution_count": 13,
   "metadata": {},
   "outputs": [
    {
     "data": {
      "text/plain": [
       "<matplotlib.figure.Figure at 0x7fbf30cea898>"
      ]
     },
     "execution_count": 13,
     "metadata": {},
     "output_type": "execute_result"
    }
   ],
   "source": [
    "plt.figure(figsize=(10,7))"
   ]
  },
  {
   "cell_type": "code",
   "execution_count": 14,
   "metadata": {
    "collapsed": true
   },
   "outputs": [],
   "source": [
    "import seaborn as sns"
   ]
  },
  {
   "cell_type": "code",
   "execution_count": 15,
   "metadata": {},
   "outputs": [
    {
     "data": {
      "text/plain": [
       "<matplotlib.figure.Figure at 0x7fbf30cea898>"
      ]
     },
     "metadata": {},
     "output_type": "display_data"
    },
    {
     "data": {
      "image/png": "[encoded data removed]",
      "text/plain": [
       "<matplotlib.figure.Figure at 0x7fbf28413080>"
      ]
     },
     "metadata": {},
     "output_type": "display_data"
    }
   ],
   "source": [
    "plt.figure(figsize=(20,14))\n",
    "sns.heatmap(data=train[li].corr(),annot=True, square=True)\n",
    "plt.show()"
   ]
  },
  {
   "cell_type": "code",
   "execution_count": 16,
   "metadata": {
    "collapsed": true
   },
   "outputs": [],
   "source": [
    "train['cont_4_5_max']=[max(i,j) for i,j in zip(train['cont_4'],train['cont_5'])]\n",
    "train['cont_6_7_min']=[min(i,j) for i,j in zip(train['cont_6'],train['cont_7'])]\n",
    "train['cont_15_16_min']=[min(i,j) for i,j in zip(train['cont_15'],train['cont_16'])]\n",
    "\n",
    "test['cont_4_5_max']=[max(i,j) for i,j in zip(test['cont_4'],test['cont_5'])]\n",
    "test['cont_6_7_min']=[min(i,j) for i,j in zip(test['cont_6'],test['cont_7'])]\n",
    "test['cont_15_16_min']=[min(i,j) for i,j in zip(test['cont_15'],test['cont_16'])]"
   ]
  },
  {
   "cell_type": "code",
   "execution_count": 17,
   "metadata": {
    "collapsed": true
   },
   "outputs": [],
   "source": [
    "#choose min due to high corr\n",
    "train=train.drop(['cont_15','cont_16','cont_4','cont_5','cont_6','cont_7'],1)\n",
    "test=test.drop(['cont_15','cont_16','cont_4','cont_5','cont_6','cont_7'],1)"
   ]
  },
  {
   "cell_type": "code",
   "execution_count": 18,
   "metadata": {
    "collapsed": true
   },
   "outputs": [],
   "source": [
    "train['cont_15_16_min']=train['cont_14']*2 + train['cont_15_16_min']+2*train['cont_1']"
   ]
  },
  {
   "cell_type": "code",
   "execution_count": 19,
   "metadata": {
    "collapsed": true
   },
   "outputs": [],
   "source": [
    "test['cont_15_16_min']=test['cont_14']*2 + test['cont_15_16_min']+2*train['cont_1']"
   ]
  },
  {
   "cell_type": "code",
   "execution_count": 20,
   "metadata": {
    "collapsed": true
   },
   "outputs": [],
   "source": [
    "li2=[i for i in train.columns if 'cont' in i ]"
   ]
  },
  {
   "cell_type": "code",
   "execution_count": 21,
   "metadata": {},
   "outputs": [
    {
     "name": "stdout",
     "output_type": "stream",
     "text": [
      "['cont_1', 'cont_2', 'cont_3', 'cont_8', 'cont_9', 'cont_10', 'cont_11', 'cont_12', 'cont_13', 'cont_14', 'cont_17', 'cont_18', 'cont_4_5_max', 'cont_6_7_min', 'cont_15_16_min']\n"
     ]
    }
   ],
   "source": [
    "print(li2)"
   ]
  },
  {
   "cell_type": "code",
   "execution_count": 22,
   "metadata": {
    "collapsed": true
   },
   "outputs": [],
   "source": [
    "train['cont_17_18_min']=[min(i,j) for i,j in zip(train['cont_17'],train['cont_18'])]\n",
    "test['cont_17_18_min']=[min(i,j) for i,j in zip(test['cont_17'],test['cont_18'])]"
   ]
  },
  {
   "cell_type": "code",
   "execution_count": 23,
   "metadata": {
    "collapsed": true
   },
   "outputs": [],
   "source": [
    "train=train.drop(['cont_17','cont_18'],1)\n",
    "test=test.drop(['cont_17','cont_18'],1)"
   ]
  },
  {
   "cell_type": "code",
   "execution_count": 24,
   "metadata": {},
   "outputs": [
    {
     "data": {
      "image/png": "[encoded data removed]",
      "text/plain": [
       "<matplotlib.figure.Figure at 0x7fbf281819e8>"
      ]
     },
     "metadata": {},
     "output_type": "display_data"
    }
   ],
   "source": [
    "plt.figure(figsize=(15,10))\n",
    "sns.heatmap(data=train.corr(),annot=False)\n",
    "plt.show()"
   ]
  },
  {
   "cell_type": "code",
   "execution_count": null,
   "metadata": {
    "collapsed": true
   },
   "outputs": [],
   "source": [
    "#OHE\n",
    "for i in train.columns:\n",
    "    if 'cat' in i:\n",
    "        temp = pd.get_dummies(pd.Series(train[i]))\n",
    "        train=train.drop([i],1)\n",
    "        train=pd.concat([train,temp],1)\n",
    "#OHE\n",
    "for i in test.columns:\n",
    "    if 'cat' in i:\n",
    "        temp = pd.get_dummies(pd.Series(test[i]))\n",
    "        test=test.drop([i],1)\n",
    "        test=pd.concat([test,temp],1)        "
   ]
  },
  {
   "cell_type": "code",
   "execution_count": null,
   "metadata": {
    "collapsed": true
   },
   "outputs": [],
   "source": [
    "print(train.shape,test.shape)"
   ]
  },
  {
   "cell_type": "code",
   "execution_count": null,
   "metadata": {
    "collapsed": true
   },
   "outputs": [],
   "source": []
  },
  {
   "cell_type": "code",
   "execution_count": 27,
   "metadata": {},
   "outputs": [
    {
     "name": "stdout",
     "output_type": "stream",
     "text": [
      "Index(['connection_id',        'cont_1',        'cont_2',        'cont_3',\n",
      "              'cont_8',        'cont_9',       'cont_10',       'cont_11',\n",
      "             'cont_12',       'cont_13',\n",
      "       ...\n",
      "                   246,             247,             248,             249,\n",
      "                   250,             251,             252,             253,\n",
      "                   254,             255],\n",
      "      dtype='object', length=1479) Index(['connection_id',        'cont_1',        'cont_2',        'cont_3',\n",
      "              'cont_8',        'cont_9',       'cont_10',       'cont_11',\n",
      "             'cont_12',       'cont_13',\n",
      "       ...\n",
      "                   246,             247,             248,             249,\n",
      "                   250,             251,             252,             253,\n",
      "                   254,             255],\n",
      "      dtype='object', length=1423)\n"
     ]
    }
   ],
   "source": [
    "print(train.columns,test.columns)"
   ]
  },
  {
   "cell_type": "code",
   "execution_count": 28,
   "metadata": {},
   "outputs": [
    {
     "name": "stdout",
     "output_type": "stream",
     "text": [
      "2\n"
     ]
    }
   ],
   "source": [
    "print(max(train['target']))"
   ]
  },
  {
   "cell_type": "code",
   "execution_count": 29,
   "metadata": {},
   "outputs": [
    {
     "name": "stdout",
     "output_type": "stream",
     "text": [
      "(169307, 1479) (91166, 1423)\n"
     ]
    }
   ],
   "source": [
    "print(train.shape,test.shape)"
   ]
  },
  {
   "cell_type": "code",
   "execution_count": 30,
   "metadata": {},
   "outputs": [
    {
     "name": "stdout",
     "output_type": "stream",
     "text": [
      "  connection_id  cont_1  cont_2  cont_3  cont_8  cont_9  cont_10  cont_11  \\\n",
      "0       cxcon_1       0    1032       0     1.0     0.0      0.0      1.0   \n",
      "1       cxcon_4       0     520       0     1.0     0.0      0.0      1.0   \n",
      "2       cxcon_7       0    1032       0     1.0     0.0      0.0      1.0   \n",
      "3      cxcon_10       0    1032       0     1.0     0.0      0.0      1.0   \n",
      "4      cxcon_13       0    1032       0     1.0     0.0      0.0      1.0   \n",
      "\n",
      "   cont_12  cont_13  cont_14  target  cont_4_5_max  cont_6_7_min  \\\n",
      "0      0.0      1.0      0.0       2           0.0           0.0   \n",
      "1      0.0      1.0      0.0       0           0.0           0.0   \n",
      "2      0.0      1.0      0.0       0           0.0           0.0   \n",
      "3      0.0      1.0      0.0       0           0.0           0.0   \n",
      "4      0.0      1.0      0.0       2           0.0           0.0   \n",
      "\n",
      "   cont_15_16_min  cont_17_18_min  1  2  3  1  2  3  4  5  6  7  8  9  10  11  \\\n",
      "0             0.0             0.0  0  0  1  0  0  0  0  0  0  0  0  0   1   0   \n",
      "1             0.0             0.0  0  0  1  0  0  0  0  0  0  0  0  0   1   0   \n",
      "2             0.0             0.0  0  0  1  0  0  0  0  0  0  0  0  0   1   0   \n",
      "3             0.0             0.0  0  0  1  0  0  0  0  0  0  0  0  0   1   0   \n",
      "4             0.0             0.0  0  0  1  0  0  0  0  0  0  0  0  0   1   0   \n",
      "\n",
      "   12  13  14  15  16  17  18  19  20  21  22  23  24  25  26  27  28  29  30  \\\n",
      "0   0   0   0   0   0   0   0   0   0   0   0   0   0   0   0   0   0   0   0   \n",
      "1   0   0   0   0   0   0   0   0   0   0   0   0   0   0   0   0   0   0   0   \n",
      "2   0   0   0   0   0   0   0   0   0   0   0   0   0   0   0   0   0   0   0   \n",
      "3   0   0   0   0   0   0   0   0   0   0   0   0   0   0   0   0   0   0   0   \n",
      "4   0   0   0   0   0   0   0   0   0   0   0   0   0   0   0   0   0   0   0   \n",
      "\n",
      "   31  32  33  34  35  36  37  38  40  41  42  43  44  45  46  47  48  49  50  \\\n",
      "0   0   0   0   0   0   0   0   0   0   0   0   0   0   0   0   0   0   0   0   \n",
      "1   0   0   0   0   0   0   0   0   0   0   0   0   0   0   0   0   0   0   0   \n",
      "2   0   0   0   0   0   0   0   0   0   0   0   0   0   0   0   0   0   0   0   \n",
      "3   0   0   0   0   0   0   0   0   0   0   0   0   0   0   0   0   0   0   0   \n",
      "4   0   0   0   0   0   0   0   0   0   0   0   0   0   0   0   0   0   0   0   \n",
      "\n",
      "   51  52  53  54  55  56  57  58  59  60  61  62  63  65  69  1  2  3  4  5  \\\n",
      "0   0   0   0   0   0   0   0   0   0   0   0   0   0   0   0  1  0  0  0  0   \n",
      "1   0   0   0   0   0   0   0   0   0   0   0   0   0   0   0  1  0  0  0  0   \n",
      "2   0   0   0   0   0   0   0   0   0   0   0   0   0   0   0  1  0  0  0  0   \n",
      "3   0   0   0   0   0   0   0   0   0   0   0   0   0   0   0  1  0  0  0  0   \n",
      "4   0   0   0   0   0   0   0   0   0   0   0   0   0   0   0  1  0  0  0  0   \n",
      "\n",
      "   6  7  8  9  10  11  0  1  0  1  2  3  4  6  8  21  254  378  435  0  1  2  \\\n",
      "0  0  0  0  0   0   0  1  0  1  0  0  0  0  0  0   0    0    0    0  1  0  0   \n",
      "1  0  0  0  0   0   0  1  0  1  0  0  0  0  0  0   0    0    0    0  1  0  0   \n",
      "2  0  0  0  0   0   0  1  0  1  0  0  0  0  0  0   0    0    0    0  1  0  0   \n",
      "3  0  0  0  0   0   0  1  0  1  0  0  0  0  0  0   0    0    0    0  1  0  0   \n",
      "4  0  0  0  0   0   0  1  0  1  0  0  0  0  0  0   0    0    0    0  1  0  0   \n",
      "\n",
      "   4  5  6  9  289  421  480  0  1  2  3  4  5  13  14  22  25  0  1  2  3  4  \\\n",
      "0  0  0  0  0    0    0    0  1  0  0  0  0  0   0   0   0   0  1  0  0  0  0   \n",
      "1  0  0  0  0    0    0    0  1  0  0  0  0  0   0   0   0   0  1  0  0  0  0   \n",
      "2  0  0  0  0    0    0    0  1  0  0  0  0  0   0   0   0   0  1  0  0  0  0   \n",
      "3  0  0  0  0    0    0    0  1  0  0  0  0  0   0   0   0   0  1  0  0  0  0   \n",
      "4  0  0  0  0    0    0    0  1  0  0  0  0  0   0   0   0   0  1  0  0  0  0   \n",
      "\n",
      "   5  0  1  0  1  2  3  4  5  6  7  8  9  10  11  12  13  14  15  16  17  18  \\\n",
      "0  0  1  0  0  0  0  0  0  0  0  0  0  0   0   0   0   0   0   0   0   0   0   \n",
      "1  0  1  0  0  0  0  0  0  0  0  0  0  0   0   0   0   0   0   0   0   0   0   \n",
      "2  0  1  0  0  0  0  0  0  0  0  0  0  0   0   0   0   0   0   0   0   0   0   \n",
      "3  0  1  0  0  0  0  0  0  0  0  0  0  0   0   0   0   0   0   0   0   0   0   \n",
      "4  0  1  0  0  0  0  0  0  0  0  0  0  0   0   0   0   0   0   0   0   0   0   \n",
      "\n",
      "   19  20  21  22  23  24  25  26  27  28  29  30  31  32  33  34  35  36  37  \\\n",
      "0   0   0   0   0   0   0   0   0   0   0   0   0   0   0   0   0   0   0   0   \n",
      "1   0   0   0   0   0   0   0   0   0   0   0   0   0   0   0   0   0   0   0   \n",
      "2   0   0   0   0   0   0   0   0   0   0   0   0   0   0   0   0   0   0   0   \n",
      "3   0   0   0   0   0   0   0   0   0   0   0   0   0   0   0   0   0   0   0   \n",
      "4   0   0   0   0   0   0   0   0   0   0   0   0   0   0   0   0   0   0   0   \n",
      "\n",
      "   38  39  40  41  42  43  44  45  46  47  48  49  50  51  52  53  54  55  56  \\\n",
      "0   0   0   0   0   0   0   0   0   0   0   0   0   0   0   0   0   0   0   0   \n",
      "1   0   0   0   0   0   0   0   0   0   0   0   0   0   0   0   0   0   0   0   \n",
      "2   0   0   0   0   0   0   0   0   0   0   0   0   0   0   0   0   0   0   0   \n",
      "3   0   0   0   0   0   0   0   0   0   0   0   0   0   0   0   0   0   0   0   \n",
      "4   0   0   0   0   0   0   0   0   0   0   0   0   0   0   0   0   0   0   0   \n",
      "\n",
      "   57  58  59  60  61  62  63  64  65  66  67  68  69  70  71  72  73  74  75  \\\n",
      "0   0   0   0   0   0   0   0   0   0   0   0   0   0   0   0   0   0   0   0   \n",
      "1   0   0   0   0   0   0   0   0   0   0   0   0   0   0   0   0   0   0   0   \n",
      "2   0   0   0   0   0   0   0   0   0   0   0   0   0   0   0   0   0   0   0   \n",
      "3   0   0   0   0   0   0   0   0   0   0   0   0   0   0   0   0   0   0   0   \n",
      "4   0   0   0   0   0   0   0   0   0   0   0   0   0   0   0   0   0   0   0   \n",
      "\n",
      "   76  77  78  79  80  81  82  83  84  85  86  87  88  89  90  91  92  93  94  \\\n",
      "0   0   0   0   0   0   0   0   0   0   0   0   0   0   0   0   0   0   0   0   \n",
      "1   0   0   0   0   0   0   0   0   0   0   0   0   0   0   0   0   0   0   0   \n",
      "2   0   0   0   0   0   0   0   0   0   0   0   0   0   0   0   0   0   0   0   \n",
      "3   0   0   0   0   0   0   0   0   0   0   0   0   0   0   0   0   0   0   0   \n",
      "4   0   0   0   0   0   0   0   0   0   0   0   0   0   0   0   0   0   0   0   \n",
      "\n",
      "   95  96  97  98  99  100  101  102  103  104  105  106  107  108  109  110  \\\n",
      "0   0   0   0   0   0    0    0    0    0    0    0    0    0    0    0    0   \n",
      "1   0   0   0   0   0    0    0    0    0    0    0    0    0    0    0    0   \n",
      "2   0   0   0   0   0    0    0    0    0    0    0    0    0    0    0    0   \n",
      "3   0   0   0   0   0    0    0    0    0    0    0    0    0    0    0    0   \n",
      "4   0   0   0   0   0    0    0    0    0    0    0    0    0    0    0    0   \n",
      "\n",
      "   111  112  113  114  115  116  117  118  119  120  121  122  123  124  125  \\\n",
      "0    0    0    0    0    0    0    0    0    0    0    0    0    0    0    0   \n",
      "1    0    0    0    0    0    0    0    0    0    0    0    0    0    0    0   \n",
      "2    0    0    0    0    0    0    0    0    0    0    0    0    0    0    0   \n",
      "3    0    0    0    0    0    0    0    0    0    0    0    0    0    0    0   \n",
      "4    0    0    0    0    0    0    0    0    0    0    0    0    0    0    0   \n",
      "\n",
      "   126  127  128  129  130  131  132  133  134  135  136  137  138  139  140  \\\n",
      "0    0    0    0    0    0    0    0    0    0    0    0    0    0    0    0   \n",
      "1    0    0    0    0    0    0    0    0    0    0    0    0    0    0    0   \n",
      "2    0    0    0    0    0    0    0    0    0    0    0    0    0    0    0   \n",
      "3    0    0    0    0    0    0    0    0    0    0    0    0    0    0    0   \n",
      "4    0    0    0    0    0    0    0    0    0    0    0    0    0    0    0   \n",
      "\n",
      "   141  142  143  144  145  146  147  148  149  150  151  152  153  154  155  \\\n",
      "0    0    0    0    0    0    0    0    0    0    0    0    0    0    0    0   \n",
      "1    0    0    0    0    0    0    0    0    0    0    0    0    0    0    0   \n",
      "2    0    0    0    0    0    0    0    0    0    0    0    0    0    0    0   \n",
      "3    0    0    0    0    0    0    0    0    0    0    0    0    0    0    0   \n",
      "4    0    0    0    0    0    0    0    0    0    0    0    0    0    0    0   \n",
      "\n",
      "   156  157  158  159  160  161  162  163  164  165  166  167  168  169  170  \\\n",
      "0    0    0    0    0    0    0    0    0    0    0    0    0    0    0    0   \n",
      "1    0    0    0    0    0    0    0    0    0    0    0    0    0    0    0   \n",
      "2    0    0    0    0    0    0    0    0    0    0    0    0    0    0    0   \n",
      "3    0    0    0    0    0    0    0    0    0    0    0    0    0    0    0   \n",
      "4    0    0    0    0    0    0    0    0    0    0    0    0    0    0    0   \n",
      "\n",
      "   171  172  173  174  175  176  177  178  179  180  181  182  183  184  185  \\\n",
      "0    0    0    0    0    0    0    0    0    0    0    0    0    0    0    0   \n",
      "1    0    0    0    0    0    0    0    0    0    0    0    0    0    0    0   \n",
      "2    0    0    0    0    0    0    0    0    0    0    0    0    0    0    0   \n",
      "3    0    0    0    0    0    0    0    0    0    0    0    0    0    0    0   \n",
      "4    0    0    0    0    0    0    0    0    0    0    0    0    0    0    0   \n",
      "\n",
      "   186  187  188  189  190  191  192  193  194  195  196  197  198  199  200  \\\n",
      "0    0    0    0    0    0    0    0    0    0    0    0    0    0    0    0   \n",
      "1    0    0    0    0    0    0    0    0    0    0    0    0    0    0    0   \n",
      "2    0    0    0    0    0    0    0    0    0    0    0    0    0    0    0   \n",
      "3    0    0    0    0    0    0    0    0    0    0    0    0    0    0    0   \n",
      "4    0    0    0    0    0    0    0    0    0    0    0    0    0    0    0   \n",
      "\n",
      "   201  202  203  204  205  206  207  208  209  210  211  212  213  214  215  \\\n",
      "0    0    0    0    0    0    0    0    0    0    0    0    0    0    0    0   \n",
      "1    0    0    0    0    0    0    0    0    0    0    0    0    0    0    0   \n",
      "2    0    0    0    0    0    0    0    0    0    0    0    0    0    0    0   \n",
      "3    0    0    0    0    0    0    0    0    0    0    0    0    0    0    0   \n",
      "4    0    0    0    0    0    0    0    0    0    0    0    0    0    0    0   \n",
      "\n",
      "   216  217  218  219  220  221  222  223  224  225  226  227  228  229  230  \\\n",
      "0    0    0    0    0    0    0    0    0    0    0    0    0    0    0    0   \n",
      "1    0    0    0    0    0    0    0    0    0    0    0    0    0    0    0   \n",
      "2    0    0    0    0    0    0    0    0    0    0    0    0    0    0    0   \n",
      "3    0    0    0    0    0    0    0    0    0    0    0    0    0    0    0   \n",
      "4    0    0    0    0    0    0    0    0    0    0    0    0    0    0    0   \n",
      "\n",
      "   231  232  233  234  235  236  237  238  239  240  241  242  243  244  245  \\\n",
      "0    0    0    0    0    0    0    0    0    0    0    0    0    0    0    0   \n",
      "1    0    0    0    0    0    0    0    0    0    0    0    0    0    0    0   \n",
      "2    0    0    0    0    0    0    0    0    0    0    0    0    0    0    0   \n",
      "3    0    0    0    0    0    0    0    0    0    0    0    0    0    0    0   \n",
      "4    0    0    0    0    0    0    0    0    0    0    0    0    0    0    0   \n",
      "\n",
      "   246  247  248  249  250  251  252  253  254  255  256  257  258  259  260  \\\n",
      "0    0    0    0    0    0    0    0    0    0    0    0    0    0    0    0   \n",
      "1    0    0    0    0    0    0    0    0    0    0    0    0    0    0    0   \n",
      "2    0    0    0    0    0    0    0    0    0    0    0    0    0    0    0   \n",
      "3    0    0    0    0    0    0    0    0    0    0    0    0    0    0    0   \n",
      "4    0    0    0    0    0    0    0    0    0    0    0    0    0    0    0   \n",
      "\n",
      "   261  262  263  264  265  266  267  268  269  270  271  272  273  274  275  \\\n",
      "0    0    0    0    0    0    0    0    0    0    0    0    0    0    0    0   \n",
      "1    0    0    0    0    0    0    0    0    0    0    0    0    0    0    0   \n",
      "2    0    0    0    0    0    0    0    0    0    0    0    0    0    0    0   \n",
      "3    0    0    0    0    0    0    0    0    0    0    0    0    0    0    0   \n",
      "4    0    0    0    0    0    0    0    0    0    0    0    0    0    0    0   \n",
      "\n",
      "   276  277  278  279  280  281  282  283  284  285  286  287  288  289  290  \\\n",
      "0    0    0    0    0    0    0    0    0    0    0    0    0    0    0    0   \n",
      "1    0    0    0    0    0    0    0    0    0    0    0    0    0    0    0   \n",
      "2    0    0    0    0    0    0    0    0    0    0    0    0    0    0    0   \n",
      "3    0    0    0    0    0    0    0    0    0    0    0    0    0    0    0   \n",
      "4    0    0    0    0    0    0    0    0    0    0    0    0    0    0    0   \n",
      "\n",
      "   291  292  293  294  295  296  297  298  299  300  301  302  303  305  306  \\\n",
      "0    0    0    0    0    0    0    0    0    0    0    0    0    0    0    0   \n",
      "1    0    0    0    0    0    0    0    0    0    0    0    0    0    0    0   \n",
      "2    0    0    0    0    0    0    0    0    0    0    0    0    0    0    0   \n",
      "3    0    0    0    0    0    0    0    0    0    0    0    0    0    0    0   \n",
      "4    0    0    0    0    0    0    0    0    0    0    0    0    0    0    0   \n",
      "\n",
      "   308  310  311  313  314  316  317  318  319  320  323  331  333  335  337  \\\n",
      "0    0    0    0    0    0    0    0    0    0    0    0    0    0    0    0   \n",
      "1    0    0    0    0    0    0    0    0    0    0    0    0    0    0    0   \n",
      "2    0    0    0    0    0    0    0    0    0    0    0    0    0    0    0   \n",
      "3    0    0    0    0    0    0    0    0    0    0    0    0    0    0    0   \n",
      "4    0    0    0    0    0    0    0    0    0    0    0    0    0    0    0   \n",
      "\n",
      "   342  346  348  349  353  354  359  362  364  365  368  370  375  377  381  \\\n",
      "0    0    0    0    0    0    0    0    0    0    0    0    0    0    0    0   \n",
      "1    0    0    0    0    0    0    0    0    0    0    0    0    0    0    0   \n",
      "2    0    0    0    0    0    0    0    0    0    0    0    0    0    0    0   \n",
      "3    0    0    0    0    0    0    0    0    0    0    0    0    0    0    0   \n",
      "4    0    0    0    0    0    0    0    0    0    0    0    0    0    0    0   \n",
      "\n",
      "   382  383  386  387  389  390  393  396  398  400  406  409  412  413  416  \\\n",
      "0    0    0    0    0    0    0    0    0    0    0    0    0    0    0    0   \n",
      "1    0    0    0    0    0    0    0    0    0    0    0    0    0    0    0   \n",
      "2    0    0    0    0    0    0    0    0    0    0    0    0    0    0    0   \n",
      "3    0    0    0    0    0    0    0    0    0    0    0    0    0    0    0   \n",
      "4    0    0    0    0    0    0    0    0    0    0    0    0    0    0    0   \n",
      "\n",
      "   419  420  421  424  425  428  429  430  431  432  434  435  436  437 ...   \\\n",
      "0    0    0    0    0    0    0    0    0    0    0    0    0    0    0 ...    \n",
      "1    0    0    0    0    0    0    0    0    0    0    0    0    0    0 ...    \n",
      "2    0    0    0    0    0    0    0    0    0    0    0    0    0    0 ...    \n",
      "3    0    0    0    0    0    0    0    0    0    0    0    0    0    0 ...    \n",
      "4    0    0    0    0    0    0    0    0    0    0    0    0    0    0 ...    \n",
      "\n",
      "   12  13  14  15  16  17  18  19  20  21  22  23  24  25  26  27  28  29  30  \\\n",
      "0   0   0   0   0   0   0   0   0   0   0   0   0   0   0   0   0   0   0   0   \n",
      "1   0   0   0   0   0   0   0   0   0   0   0   0   0   0   0   0   0   0   0   \n",
      "2   0   0   0   0   0   0   0   0   0   0   0   0   0   0   0   0   0   0   0   \n",
      "3   0   0   0   0   0   0   0   0   0   0   0   0   0   0   0   0   0   0   0   \n",
      "4   0   0   0   0   0   0   0   0   0   0   0   0   0   0   0   0   0   0   0   \n",
      "\n",
      "   31  32  33  34  35  36  37  38  39  40  41  42  43  44  45  46  47  48  49  \\\n",
      "0   0   0   0   0   0   0   0   0   0   0   0   0   0   0   0   0   0   0   0   \n",
      "1   0   0   0   0   0   0   0   0   0   0   0   0   0   0   0   0   0   0   0   \n",
      "2   0   0   0   0   0   0   0   0   0   0   0   0   0   0   0   0   0   0   0   \n",
      "3   0   0   0   0   0   0   0   0   0   0   0   0   0   0   0   0   0   0   0   \n",
      "4   0   0   0   0   0   0   0   0   0   0   0   0   0   0   0   0   0   0   0   \n",
      "\n",
      "   50  51  52  53  54  55  56  57  58  59  60  61  62  63  64  65  66  67  68  \\\n",
      "0   0   0   0   0   0   0   0   0   0   0   0   0   0   0   0   0   0   0   0   \n",
      "1   0   0   0   0   0   0   0   0   0   0   0   0   0   0   0   0   0   0   0   \n",
      "2   0   0   0   0   0   0   0   0   0   0   0   0   0   0   0   0   0   0   0   \n",
      "3   0   0   0   0   0   0   0   0   0   0   0   0   0   0   0   0   0   0   0   \n",
      "4   0   0   0   0   0   0   0   0   0   0   0   0   0   0   0   0   0   0   0   \n",
      "\n",
      "   69  70  71  72  73  74  75  76  77  78  79  80  81  82  83  84  85  86  87  \\\n",
      "0   0   0   0   0   0   0   0   0   0   0   0   0   0   0   0   0   0   0   0   \n",
      "1   0   0   0   0   0   0   0   0   0   0   0   0   0   0   0   0   0   0   0   \n",
      "2   0   0   0   0   0   0   0   0   0   0   0   0   0   0   0   0   0   0   0   \n",
      "3   0   0   0   0   0   0   0   0   0   0   0   0   0   0   0   0   0   0   0   \n",
      "4   0   0   0   0   0   0   0   0   0   0   0   0   0   0   0   0   0   0   0   \n",
      "\n",
      "   88  89  90  91  92  93  94  95  96  97  98  99  100  101  102  103  104  \\\n",
      "0   0   0   0   0   0   0   0   0   0   0   0   0    0    0    0    0    0   \n",
      "1   0   0   0   0   0   0   0   0   0   0   0   0    0    0    0    0    0   \n",
      "2   0   0   0   0   0   0   0   0   0   0   0   0    0    0    0    0    0   \n",
      "3   0   0   0   0   0   0   0   0   0   0   0   0    0    0    0    0    0   \n",
      "4   0   0   0   0   0   0   0   0   0   0   0   0    0    0    0    0    0   \n",
      "\n",
      "   105  106  107  108  109  110  111  112  113  114  115  116  117  118  119  \\\n",
      "0    0    0    0    0    0    0    0    0    0    0    0    0    0    0    0   \n",
      "1    0    0    0    0    0    0    0    0    0    0    0    0    0    0    0   \n",
      "2    0    0    0    0    0    0    0    0    0    0    0    0    0    0    0   \n",
      "3    0    0    0    0    0    0    0    0    0    0    0    0    0    0    0   \n",
      "4    0    0    0    0    0    0    0    0    0    0    0    0    0    0    0   \n",
      "\n",
      "   120  121  122  123  124  125  126  127  128  129  130  131  132  133  134  \\\n",
      "0    0    0    0    0    0    0    0    0    0    0    0    0    0    0    0   \n",
      "1    0    0    0    0    0    0    0    0    0    0    0    0    0    0    0   \n",
      "2    0    0    0    0    0    0    0    0    0    0    0    0    0    0    0   \n",
      "3    0    0    0    0    0    0    0    0    0    0    0    0    0    0    0   \n",
      "4    0    0    0    0    0    0    0    0    0    0    0    0    0    0    0   \n",
      "\n",
      "   135  136  137  138  139  140  141  142  143  144  145  146  147  148  149  \\\n",
      "0    0    0    0    0    0    0    0    0    0    0    0    0    0    0    0   \n",
      "1    0    0    0    0    0    0    0    0    0    0    0    0    0    0    0   \n",
      "2    0    0    0    0    0    0    0    0    0    0    0    0    0    0    0   \n",
      "3    0    0    0    0    0    0    0    0    0    0    0    0    0    0    0   \n",
      "4    0    0    0    0    0    0    0    0    0    0    0    0    0    0    0   \n",
      "\n",
      "   150  151  152  153  154  155  156  157  158  159  160  161  162  163  164  \\\n",
      "0    0    0    0    0    0    0    0    0    0    0    0    0    0    0    0   \n",
      "1    0    0    0    0    0    0    0    0    0    0    0    0    0    0    0   \n",
      "2    0    0    0    0    0    0    0    0    0    0    0    0    0    0    0   \n",
      "3    0    0    0    0    0    0    0    0    0    0    0    0    0    0    0   \n",
      "4    0    0    0    0    0    0    0    0    0    0    0    0    0    0    0   \n",
      "\n",
      "   165  166  167  168  169  170  171  172  173  174  175  176  177  178  179  \\\n",
      "0    0    0    0    0    0    0    0    0    0    0    0    0    0    0    0   \n",
      "1    0    0    0    0    0    0    0    0    0    0    0    0    0    0    0   \n",
      "2    0    0    0    0    0    0    0    0    0    0    0    0    0    0    0   \n",
      "3    0    0    0    0    0    0    0    0    0    0    0    0    0    0    0   \n",
      "4    0    0    0    0    0    0    0    0    0    0    0    0    0    0    0   \n",
      "\n",
      "   180  181  182  183  184  185  186  187  188  189  190  191  192  193  194  \\\n",
      "0    0    0    0    0    0    0    0    0    0    0    0    0    0    0    0   \n",
      "1    0    0    0    0    0    0    0    0    0    0    0    0    0    0    0   \n",
      "2    0    0    0    0    0    0    0    0    0    0    0    0    0    0    0   \n",
      "3    0    0    0    0    0    0    0    0    0    0    0    0    0    0    0   \n",
      "4    0    0    0    0    0    0    0    0    0    0    0    0    0    0    0   \n",
      "\n",
      "   195  196  197  198  199  200  201  202  203  204  205  206  207  208  209  \\\n",
      "0    0    0    0    0    0    0    0    0    0    0    0    0    0    0    0   \n",
      "1    0    0    0    0    0    0    0    0    0    0    0    0    0    0    0   \n",
      "2    0    0    0    0    0    0    0    0    0    0    0    0    0    0    0   \n",
      "3    0    0    0    0    0    0    0    0    0    0    0    0    0    0    0   \n",
      "4    0    0    0    0    0    0    0    0    0    0    0    0    0    0    0   \n",
      "\n",
      "   210  211  212  213  214  215  216  217  218  219  220  221  222  223  224  \\\n",
      "0    0    0    0    0    0    0    0    0    0    0    0    0    0    0    0   \n",
      "1    0    0    0    0    0    0    0    0    0    0    0    0    0    0    0   \n",
      "2    0    0    0    0    0    0    0    0    0    0    0    0    0    0    0   \n",
      "3    0    0    0    0    0    0    0    0    0    0    0    0    0    0    0   \n",
      "4    0    0    0    0    0    0    0    0    0    0    0    0    0    0    0   \n",
      "\n",
      "   225  226  227  228  229  230  231  232  233  234  235  236  237  238  239  \\\n",
      "0    0    0    0    0    0    0    0    0    0    0    0    0    0    0    0   \n",
      "1    0    0    0    0    0    0    0    0    0    0    0    0    0    0    0   \n",
      "2    0    0    0    0    0    0    0    0    0    0    0    0    0    0    0   \n",
      "3    0    0    0    0    0    0    0    0    0    0    0    0    0    0    0   \n",
      "4    0    0    0    0    0    0    0    0    0    0    0    0    0    0    0   \n",
      "\n",
      "   240  241  242  243  244  245  246  247  248  249  250  251  252  253  254  \\\n",
      "0    0    0    0    0    0    0    0    0    0    0    0    0    0    0    0   \n",
      "1    0    0    0    0    0    0    0    0    0    0    0    0    0    0    0   \n",
      "2    0    0    0    0    0    0    0    0    0    0    0    0    0    0    0   \n",
      "3    0    0    0    0    0    0    0    0    0    0    0    0    0    0    0   \n",
      "4    0    0    0    0    0    0    0    0    0    0    0    0    0    0    0   \n",
      "\n",
      "   255  0  1  2  3  4  5  6  7  8  9  10  11  12  13  14  15  16  17  18  19  \\\n",
      "0    1  0  0  0  0  0  0  0  0  0  0   0   0   0   0   0   0   0   0   0   0   \n",
      "1    1  0  0  0  0  0  0  0  0  0  0   0   0   0   0   0   0   0   0   0   0   \n",
      "2    1  0  0  0  0  0  0  0  0  0  0   0   0   0   0   0   0   0   0   0   0   \n",
      "3    1  0  0  0  0  0  0  0  0  0  0   0   0   0   0   0   0   0   0   0   0   \n",
      "4    1  0  0  0  0  0  0  0  0  0  0   0   0   0   0   0   0   0   0   0   0   \n",
      "\n",
      "   20  21  22  23  24  25  26  27  28  29  30  31  32  33  34  35  36  37  38  \\\n",
      "0   0   0   0   0   0   0   0   0   0   0   0   0   0   0   0   0   0   0   0   \n",
      "1   0   0   0   0   0   0   0   0   0   0   0   0   0   0   0   0   0   0   0   \n",
      "2   0   0   0   0   0   0   0   0   0   0   0   0   0   0   0   0   0   0   0   \n",
      "3   0   0   0   0   0   0   0   0   0   0   0   0   0   0   0   0   0   0   0   \n",
      "4   0   0   0   0   0   0   0   0   0   0   0   0   0   0   0   0   0   0   0   \n",
      "\n",
      "   39  40  41  42  43  44  45  46  47  48  49  50  51  52  53  54  55  56  57  \\\n",
      "0   0   0   0   0   0   0   0   0   0   0   0   0   0   0   0   0   0   0   0   \n",
      "1   0   0   0   0   0   0   0   0   0   0   0   0   0   0   0   0   0   0   0   \n",
      "2   0   0   0   0   0   0   0   0   0   0   0   0   0   0   0   0   0   0   0   \n",
      "3   0   0   0   0   0   0   0   0   0   0   0   0   0   0   0   0   0   0   0   \n",
      "4   0   0   0   0   0   0   0   0   0   0   0   0   0   0   0   0   0   0   0   \n",
      "\n",
      "   58  59  60  61  62  63  64  65  66  67  68  69  70  71  72  73  74  75  76  \\\n",
      "0   0   0   0   0   0   0   0   0   0   0   0   0   0   0   0   0   0   0   0   \n",
      "1   0   0   0   0   0   0   0   0   0   0   0   0   0   0   0   0   0   0   0   \n",
      "2   0   0   0   0   0   0   0   0   0   0   0   0   0   0   0   0   0   0   0   \n",
      "3   0   0   0   0   0   0   0   0   0   0   0   0   0   0   0   0   0   0   0   \n",
      "4   0   0   0   0   0   0   0   0   0   0   0   0   0   0   0   0   0   0   0   \n",
      "\n",
      "   77  78  79  80  81  82  83  84  85  86  87  88  89  90  91  92  93  94  95  \\\n",
      "0   0   0   0   0   0   0   0   0   0   0   0   0   0   0   0   0   0   0   0   \n",
      "1   0   0   0   0   0   0   0   0   0   0   0   0   0   0   0   0   0   0   0   \n",
      "2   0   0   0   0   0   0   0   0   0   0   0   0   0   0   0   0   0   0   0   \n",
      "3   0   0   0   0   0   0   0   0   0   0   0   0   0   0   0   0   0   0   0   \n",
      "4   0   0   0   0   0   0   0   0   0   0   0   0   0   0   0   0   0   0   0   \n",
      "\n",
      "   96  97  98  99  100  101  102  103  104  105  106  107  108  109  110  111  \\\n",
      "0   0   0   0   0    0    0    0    0    0    0    0    0    0    0    0    0   \n",
      "1   0   0   0   0    0    0    0    0    0    0    0    0    0    0    0    0   \n",
      "2   0   0   0   0    0    0    0    0    0    0    0    0    0    0    0    0   \n",
      "3   0   0   0   0    0    0    0    0    0    0    0    0    0    0    0    0   \n",
      "4   0   0   0   0    0    0    0    0    0    0    0    0    0    0    0    0   \n",
      "\n",
      "   112  113  114  115  116  117  118  119  120  121  122  123  124  125  126  \\\n",
      "0    0    0    0    0    0    0    0    0    0    0    0    0    0    0    0   \n",
      "1    0    0    0    0    0    0    0    0    0    0    0    0    0    0    0   \n",
      "2    0    0    0    0    0    0    0    0    0    0    0    0    0    0    0   \n",
      "3    0    0    0    0    0    0    0    0    0    0    0    0    0    0    0   \n",
      "4    0    0    0    0    0    0    0    0    0    0    0    0    0    0    0   \n",
      "\n",
      "   127  128  129  130  131  132  133  134  135  136  137  138  139  140  141  \\\n",
      "0    0    0    0    0    0    0    0    0    0    0    0    0    0    0    0   \n",
      "1    0    0    0    0    0    0    0    0    0    0    0    0    0    0    0   \n",
      "2    0    0    0    0    0    0    0    0    0    0    0    0    0    0    0   \n",
      "3    0    0    0    0    0    0    0    0    0    0    0    0    0    0    0   \n",
      "4    0    0    0    0    0    0    0    0    0    0    0    0    0    0    0   \n",
      "\n",
      "   142  143  144  145  146  147  148  149  150  151  152  153  154  155  156  \\\n",
      "0    0    0    0    0    0    0    0    0    0    0    0    0    0    0    0   \n",
      "1    0    0    0    0    0    0    0    0    0    0    0    0    0    0    0   \n",
      "2    0    0    0    0    0    0    0    0    0    0    0    0    0    0    0   \n",
      "3    0    0    0    0    0    0    0    0    0    0    0    0    0    0    0   \n",
      "4    0    0    0    0    0    0    0    0    0    0    0    0    0    0    0   \n",
      "\n",
      "   157  158  159  160  161  162  163  164  165  166  167  168  169  170  171  \\\n",
      "0    0    0    0    0    0    0    0    0    0    0    0    0    0    0    0   \n",
      "1    0    0    0    0    0    0    0    0    0    0    0    0    0    0    0   \n",
      "2    0    0    0    0    0    0    0    0    0    0    0    0    0    0    0   \n",
      "3    0    0    0    0    0    0    0    0    0    0    0    0    0    0    0   \n",
      "4    0    0    0    0    0    0    0    0    0    0    0    0    0    0    0   \n",
      "\n",
      "   172  173  174  175  176  177  178  179  180  181  182  183  184  185  186  \\\n",
      "0    0    0    0    0    0    0    0    0    0    0    0    0    0    0    0   \n",
      "1    0    0    0    0    0    0    0    0    0    0    0    0    0    0    0   \n",
      "2    0    0    0    0    0    0    0    0    0    0    0    0    0    0    0   \n",
      "3    0    0    0    0    0    0    0    0    0    0    0    0    0    0    0   \n",
      "4    0    0    0    0    0    0    0    0    0    0    0    0    0    0    0   \n",
      "\n",
      "   187  188  189  190  191  192  193  194  195  196  197  198  199  200  201  \\\n",
      "0    0    0    0    0    0    0    0    0    0    0    0    0    0    0    0   \n",
      "1    0    0    0    0    0    0    0    0    0    0    0    0    0    0    0   \n",
      "2    0    0    0    0    0    0    0    0    0    0    0    0    0    0    0   \n",
      "3    0    0    0    0    0    0    0    0    0    0    0    0    0    0    0   \n",
      "4    0    0    0    0    0    0    0    0    0    0    0    0    0    0    0   \n",
      "\n",
      "   202  203  204  205  206  207  208  209  210  211  212  213  214  215  216  \\\n",
      "0    0    0    0    0    0    0    0    0    0    0    0    0    0    0    0   \n",
      "1    0    0    0    0    0    0    0    0    0    0    0    0    0    0    0   \n",
      "2    0    0    0    0    0    0    0    0    0    0    0    0    0    0    0   \n",
      "3    0    0    0    0    0    0    0    0    0    0    0    0    0    0    0   \n",
      "4    0    0    0    0    0    0    0    0    0    0    0    0    0    0    0   \n",
      "\n",
      "   217  218  219  220  221  222  223  224  225  226  227  228  229  230  231  \\\n",
      "0    0    0    0    0    0    0    0    0    0    0    0    0    0    0    0   \n",
      "1    0    0    0    0    0    0    0    0    0    0    0    0    0    0    0   \n",
      "2    0    0    0    0    0    0    0    0    0    0    0    0    0    0    0   \n",
      "3    0    0    0    0    0    0    0    0    0    0    0    0    0    0    0   \n",
      "4    0    0    0    0    0    0    0    0    0    0    0    0    0    0    0   \n",
      "\n",
      "   232  233  234  235  236  237  238  239  240  241  242  243  244  245  246  \\\n",
      "0    0    0    0    0    0    0    0    0    0    0    0    0    0    0    0   \n",
      "1    0    0    0    0    0    0    0    0    0    0    0    0    0    0    0   \n",
      "2    0    0    0    0    0    0    0    0    0    0    0    0    0    0    0   \n",
      "3    0    0    0    0    0    0    0    0    0    0    0    0    0    0    0   \n",
      "4    0    0    0    0    0    0    0    0    0    0    0    0    0    0    0   \n",
      "\n",
      "   247  248  249  250  251  252  253  254  255  \n",
      "0    0    0    0    0    0    0    0    0    1  \n",
      "1    0    0    0    0    0    0    0    0    1  \n",
      "2    0    0    0    0    0    0    0    0    1  \n",
      "3    0    0    0    0    0    0    0    0    1  \n",
      "4    0    0    0    0    0    0    0    0    1  \n",
      "\n"
     ]
    },
    {
     "name": "stdout",
     "output_type": "stream",
     "text": [
      "[5 rows x 1479 columns]   connection_id  cont_1  cont_2  cont_3  cont_8  cont_9  cont_10  cont_11  \\\n",
      "0       cxcon_2       0     331    6085     1.0     0.0      0.0      1.0   \n",
      "1       cxcon_5       0     520       0     1.0     0.0      0.0      1.0   \n",
      "2       cxcon_8       0    1032       0     1.0     0.0      0.0      1.0   \n",
      "3      cxcon_11       0    1032       0     1.0     0.0      0.0      1.0   \n",
      "4      cxcon_14       0    1032       0     1.0     0.0      0.0      1.0   \n",
      "\n",
      "   cont_12  cont_13  cont_14  cont_4_5_max  cont_6_7_min  cont_15_16_min  \\\n",
      "0      0.0      0.0      0.0           0.0           0.0             0.0   \n",
      "1      0.0      1.0      0.0           0.0           0.0             0.0   \n",
      "2      0.0      1.0      0.0           0.0           0.0             0.0   \n",
      "3      0.0      1.0      0.0           0.0           0.0             0.0   \n",
      "4      0.0      1.0      0.0           0.0           0.0             0.0   \n",
      "\n",
      "   cont_17_18_min  1  2  3  1  2  3  4  5  6  7  8  9  10  11  12  13  14  15  \\\n",
      "0             0.0  1  0  0  1  0  0  0  0  0  0  0  0   0   0   0   0   0   0   \n",
      "1             0.0  0  0  1  0  0  0  0  0  0  0  0  0   1   0   0   0   0   0   \n",
      "2             0.0  0  0  1  0  0  0  0  0  0  0  0  0   1   0   0   0   0   0   \n",
      "3             0.0  0  0  1  0  0  0  0  0  0  0  0  0   1   0   0   0   0   0   \n",
      "4             0.0  0  0  1  0  0  0  0  0  0  0  0  0   1   0   0   0   0   0   \n",
      "\n",
      "   16  17  18  19  20  21  22  23  24  25  26  27  28  29  30  31  32  33  34  \\\n",
      "0   0   0   0   0   0   0   0   0   0   0   0   0   0   0   0   0   0   0   0   \n",
      "1   0   0   0   0   0   0   0   0   0   0   0   0   0   0   0   0   0   0   0   \n",
      "2   0   0   0   0   0   0   0   0   0   0   0   0   0   0   0   0   0   0   0   \n",
      "3   0   0   0   0   0   0   0   0   0   0   0   0   0   0   0   0   0   0   0   \n",
      "4   0   0   0   0   0   0   0   0   0   0   0   0   0   0   0   0   0   0   0   \n",
      "\n",
      "   35  36  37  38  39  40  41  42  43  44  45  46  47  48  49  50  51  52  53  \\\n",
      "0   0   0   0   0   0   0   0   0   0   0   0   0   0   0   0   0   0   0   0   \n",
      "1   0   0   0   0   0   0   0   0   0   0   0   0   0   0   0   0   0   0   0   \n",
      "2   0   0   0   0   0   0   0   0   0   0   0   0   0   0   0   0   0   0   0   \n",
      "3   0   0   0   0   0   0   0   0   0   0   0   0   0   0   0   0   0   0   0   \n",
      "4   0   0   0   0   0   0   0   0   0   0   0   0   0   0   0   0   0   0   0   \n",
      "\n",
      "   54  55  56  57  58  59  60  61  62  63  67  1  2  3  4  5  6  7  8  9  10  \\\n",
      "0   0   0   0   0   0   0   0   0   0   0   0  1  0  0  0  0  0  0  0  0   0   \n",
      "1   0   0   0   0   0   0   0   0   0   0   0  1  0  0  0  0  0  0  0  0   0   \n",
      "2   0   0   0   0   0   0   0   0   0   0   0  1  0  0  0  0  0  0  0  0   0   \n",
      "3   0   0   0   0   0   0   0   0   0   0   0  1  0  0  0  0  0  0  0  0   0   \n",
      "4   0   0   0   0   0   0   0   0   0   0   0  1  0  0  0  0  0  0  0  0   0   \n",
      "\n",
      "   11  0  1  0  1  2  3  4  10  31  166  884  0  1  2  4  5  6  9  36  184  \\\n",
      "0   0  0  1  1  0  0  0  0   0   0    0    0  1  0  0  0  0  0  0   0    0   \n",
      "1   0  1  0  1  0  0  0  0   0   0    0    0  1  0  0  0  0  0  0   0    0   \n",
      "2   0  1  0  1  0  0  0  0   0   0    0    0  1  0  0  0  0  0  0   0    0   \n",
      "3   0  1  0  1  0  0  0  0   0   0    0    0  1  0  0  0  0  0  0   0    0   \n",
      "4   0  1  0  1  0  0  0  0   0   0    0    0  1  0  0  0  0  0  0   0    0   \n",
      "\n",
      "   993  0  1  2  15  0  1  2  8  0  1  1  2  3  4  5  6  7  8  9  10  11  12  \\\n",
      "0    0  1  0  0   0  1  0  0  0  1  0  0  0  0  0  0  0  0  0  0   0   0   0   \n",
      "1    0  1  0  0   0  1  0  0  0  1  0  0  0  0  0  0  0  0  0  0   0   0   0   \n",
      "2    0  1  0  0   0  1  0  0  0  1  0  0  0  0  0  0  0  0  0  0   0   0   0   \n",
      "3    0  1  0  0   0  1  0  0  0  1  0  0  0  0  0  0  0  0  0  0   0   0   0   \n",
      "4    0  1  0  0   0  1  0  0  0  1  0  0  0  0  0  0  0  0  0  0   0   0   0   \n",
      "\n",
      "   13  14  15  16  17  18  19  20  21  22  23  24  25  26  27  28  29  30  31  \\\n",
      "0   1   0   0   0   0   0   0   0   0   0   0   0   0   0   0   0   0   0   0   \n",
      "1   0   0   0   0   0   0   0   0   0   0   0   0   0   0   0   0   0   0   0   \n",
      "2   0   0   0   0   0   0   0   0   0   0   0   0   0   0   0   0   0   0   0   \n",
      "3   0   0   0   0   0   0   0   0   0   0   0   0   0   0   0   0   0   0   0   \n",
      "4   0   0   0   0   0   0   0   0   0   0   0   0   0   0   0   0   0   0   0   \n",
      "\n",
      "   32  33  34  35  36  37  38  39  40  41  42  43  44  45  46  47  48  49  50  \\\n",
      "0   0   0   0   0   0   0   0   0   0   0   0   0   0   0   0   0   0   0   0   \n",
      "1   0   0   0   0   0   0   0   0   0   0   0   0   0   0   0   0   0   0   0   \n",
      "2   0   0   0   0   0   0   0   0   0   0   0   0   0   0   0   0   0   0   0   \n",
      "3   0   0   0   0   0   0   0   0   0   0   0   0   0   0   0   0   0   0   0   \n",
      "4   0   0   0   0   0   0   0   0   0   0   0   0   0   0   0   0   0   0   0   \n",
      "\n",
      "   51  52  53  54  55  56  57  58  59  60  61  62  63  64  65  66  67  68  69  \\\n",
      "0   0   0   0   0   0   0   0   0   0   0   0   0   0   0   0   0   0   0   0   \n",
      "1   0   0   0   0   0   0   0   0   0   0   0   0   0   0   0   0   0   0   0   \n",
      "2   0   0   0   0   0   0   0   0   0   0   0   0   0   0   0   0   0   0   0   \n",
      "3   0   0   0   0   0   0   0   0   0   0   0   0   0   0   0   0   0   0   0   \n",
      "4   0   0   0   0   0   0   0   0   0   0   0   0   0   0   0   0   0   0   0   \n",
      "\n",
      "   70  71  72  73  74  75  76  77  78  79  80  81  82  83  84  85  86  87  88  \\\n",
      "0   0   0   0   0   0   0   0   0   0   0   0   0   0   0   0   0   0   0   0   \n",
      "1   0   0   0   0   0   0   0   0   0   0   0   0   0   0   0   0   0   0   0   \n",
      "2   0   0   0   0   0   0   0   0   0   0   0   0   0   0   0   0   0   0   0   \n",
      "3   0   0   0   0   0   0   0   0   0   0   0   0   0   0   0   0   0   0   0   \n",
      "4   0   0   0   0   0   0   0   0   0   0   0   0   0   0   0   0   0   0   0   \n",
      "\n",
      "   89  90  91  92  93  94  95  96  97  98  99  100  101  102  103  104  105  \\\n",
      "0   0   0   0   0   0   0   0   0   0   0   0    0    0    0    0    0    0   \n",
      "1   0   0   0   0   0   0   0   0   0   0   0    0    0    0    0    0    0   \n",
      "2   0   0   0   0   0   0   0   0   0   0   0    0    0    0    0    0    0   \n",
      "3   0   0   0   0   0   0   0   0   0   0   0    0    0    0    0    0    0   \n",
      "4   0   0   0   0   0   0   0   0   0   0   0    0    0    0    0    0    0   \n",
      "\n",
      "   106  107  108  109  110  111  112  113  114  115  116  117  118  119  120  \\\n",
      "0    0    0    0    0    0    0    0    0    0    0    0    0    0    0    0   \n",
      "1    0    0    0    0    0    0    0    0    0    0    0    0    0    0    0   \n",
      "2    0    0    0    0    0    0    0    0    0    0    0    0    0    0    0   \n",
      "3    0    0    0    0    0    0    0    0    0    0    0    0    0    0    0   \n",
      "4    0    0    0    0    0    0    0    0    0    0    0    0    0    0    0   \n",
      "\n",
      "   121  122  123  124  125  126  127  128  129  130  131  132  133  134  135  \\\n",
      "0    0    0    0    0    0    0    0    0    0    0    0    0    0    0    0   \n",
      "1    0    0    0    0    0    0    0    0    0    0    0    0    0    0    0   \n",
      "2    0    0    0    0    0    0    0    0    0    0    0    0    0    0    0   \n",
      "3    0    0    0    0    0    0    0    0    0    0    0    0    0    0    0   \n",
      "4    0    0    0    0    0    0    0    0    0    0    0    0    0    0    0   \n",
      "\n",
      "   136  137  138  139  140  141  142  143  144  145  146  147  148  149  150  \\\n",
      "0    0    0    0    0    0    0    0    0    0    0    0    0    0    0    0   \n",
      "1    0    0    0    0    0    0    0    0    0    0    0    0    0    0    0   \n",
      "2    0    0    0    0    0    0    0    0    0    0    0    0    0    0    0   \n",
      "3    0    0    0    0    0    0    0    0    0    0    0    0    0    0    0   \n",
      "4    0    0    0    0    0    0    0    0    0    0    0    0    0    0    0   \n",
      "\n",
      "   151  152  153  154  155  156  157  158  159  160  161  162  163  164  165  \\\n",
      "0    0    0    0    0    0    0    0    0    0    0    0    0    0    0    0   \n",
      "1    0    0    0    0    0    0    0    0    0    0    0    0    0    0    0   \n",
      "2    0    0    0    0    0    0    0    0    0    0    0    0    0    0    0   \n",
      "3    0    0    0    0    0    0    0    0    0    0    0    0    0    0    0   \n",
      "4    0    0    0    0    0    0    0    0    0    0    0    0    0    0    0   \n",
      "\n",
      "   166  167  168  169  170  171  172  173  174  175  176  177  178  179  180  \\\n",
      "0    0    0    0    0    0    0    0    0    0    0    0    0    0    0    0   \n",
      "1    0    0    0    0    0    0    0    0    0    0    0    0    0    0    0   \n",
      "2    0    0    0    0    0    0    0    0    0    0    0    0    0    0    0   \n",
      "3    0    0    0    0    0    0    0    0    0    0    0    0    0    0    0   \n",
      "4    0    0    0    0    0    0    0    0    0    0    0    0    0    0    0   \n",
      "\n",
      "   181  182  183  184  185  186  187  188  189  190  191  192  193  194  195  \\\n",
      "0    0    0    0    0    0    0    0    0    0    0    0    0    0    0    0   \n",
      "1    0    0    0    0    0    0    0    0    0    0    0    0    0    0    0   \n",
      "2    0    0    0    0    0    0    0    0    0    0    0    0    0    0    0   \n",
      "3    0    0    0    0    0    0    0    0    0    0    0    0    0    0    0   \n",
      "4    0    0    0    0    0    0    0    0    0    0    0    0    0    0    0   \n",
      "\n",
      "   196  197  198  199  200  201  202  203  204  205  206  207  208  209  210  \\\n",
      "0    0    0    0    0    0    0    0    0    0    0    0    0    0    0    0   \n",
      "1    0    0    0    0    0    0    0    0    0    0    0    0    0    0    0   \n",
      "2    0    0    0    0    0    0    0    0    0    0    0    0    0    0    0   \n",
      "3    0    0    0    0    0    0    0    0    0    0    0    0    0    0    0   \n",
      "4    0    0    0    0    0    0    0    0    0    0    0    0    0    0    0   \n",
      "\n",
      "   211  212  213  214  215  216  217  218  219  220  221  222  223  224  225  \\\n",
      "0    0    0    0    0    0    0    0    0    0    0    0    0    0    0    0   \n",
      "1    0    0    0    0    0    0    0    0    0    0    0    0    0    0    0   \n",
      "2    0    0    0    0    0    0    0    0    0    0    0    0    0    0    0   \n",
      "3    0    0    0    0    0    0    0    0    0    0    0    0    0    0    0   \n",
      "4    0    0    0    0    0    0    0    0    0    0    0    0    0    0    0   \n",
      "\n",
      "   226  227  228  229  230  231  232  233  234  235  236  237  238  239  240  \\\n",
      "0    0    0    0    0    0    0    0    0    0    0    0    0    0    0    0   \n",
      "1    0    0    0    0    0    0    0    0    0    0    0    0    0    0    0   \n",
      "2    0    0    0    0    0    0    0    0    0    0    0    0    0    0    0   \n",
      "3    0    0    0    0    0    0    0    0    0    0    0    0    0    0    0   \n",
      "4    0    0    0    0    0    0    0    0    0    0    0    0    0    0    0   \n",
      "\n",
      "   241  242  243  244  245  246  247  248  249  250  251  252  253  254  255  \\\n",
      "0    0    0    0    0    0    0    0    0    0    0    0    0    0    0    0   \n",
      "1    0    0    0    0    0    0    0    0    0    0    0    0    0    0    0   \n",
      "2    0    0    0    0    0    0    0    0    0    0    0    0    0    0    0   \n",
      "3    0    0    0    0    0    0    0    0    0    0    0    0    0    0    0   \n",
      "4    0    0    0    0    0    0    0    0    0    0    0    0    0    0    0   \n",
      "\n",
      "   256  257  258  259  260  261  262  263  264  265  266  267  268  269  270  \\\n",
      "0    0    0    0    0    0    0    0    0    0    0    0    0    0    0    0   \n",
      "1    0    0    0    0    0    0    0    0    0    0    0    0    0    0    0   \n",
      "2    0    0    0    0    0    0    0    0    0    0    0    0    0    0    0   \n",
      "3    0    0    0    0    0    0    0    0    0    0    0    0    0    0    0   \n",
      "4    0    0    0    0    0    0    0    0    0    0    0    0    0    0    0   \n",
      "\n",
      "   271  272  273  274  275  276  277  278  279  280  281  282  283  284  285  \\\n",
      "0    0    0    0    0    0    0    0    0    0    0    0    0    0    0    0   \n",
      "1    0    0    0    0    0    0    0    0    0    0    0    0    0    0    0   \n",
      "2    0    0    0    0    0    0    0    0    0    0    0    0    0    0    0   \n",
      "3    0    0    0    0    0    0    0    0    0    0    0    0    0    0    0   \n",
      "4    0    0    0    0    0    0    0    0    0    0    0    0    0    0    0   \n",
      "\n",
      "   286  287  288  289  290  291  292  293  294  295  296  297  298  299  300  \\\n",
      "0    0    0    0    0    0    0    0    0    0    0    0    0    0    0    0   \n",
      "1    0    0    0    0    0    0    0    0    0    0    0    0    0    0    0   \n",
      "2    0    0    0    0    0    0    0    0    0    0    0    0    0    0    0   \n",
      "3    0    0    0    0    0    0    0    0    0    0    0    0    0    0    0   \n",
      "4    0    0    0    0    0    0    0    0    0    0    0    0    0    0    0   \n",
      "\n",
      "   301  307  312  313  314  317  318  320  328  330  331  333  340  341  342  \\\n",
      "0    0    0    0    0    0    0    0    0    0    0    0    0    0    0    0   \n",
      "1    0    0    0    0    0    0    0    0    0    0    0    0    0    0    0   \n",
      "2    0    0    0    0    0    0    0    0    0    0    0    0    0    0    0   \n",
      "3    0    0    0    0    0    0    0    0    0    0    0    0    0    0    0   \n",
      "4    0    0    0    0    0    0    0    0    0    0    0    0    0    0    0   \n",
      "\n",
      "   343  345  351  356  358  359  360  365  368  374  378  383  385  389  391  \\\n",
      "0    0    0    0    0    0    0    0    0    0    0    0    0    0    0    0   \n",
      "1    0    0    0    0    0    0    0    0    0    0    0    0    0    0    0   \n",
      "2    0    0    0    0    0    0    0    0    0    0    0    0    0    0    0   \n",
      "3    0    0    0    0    0    0    0    0    0    0    0    0    0    0    0   \n",
      "4    0    0    0    0    0    0    0    0    0    0    0    0    0    0    0   \n",
      "\n",
      "   393  395  397  398  400  401  402  407  409  412  413  416  418  420  422  \\\n",
      "0    0    0    0    0    0    0    0    0    0    0    0    0    0    0    0   \n",
      "1    0    0    0    0    0    0    0    0    0    0    0    0    0    0    0   \n",
      "2    0    0    0    0    0    0    0    0    0    0    0    0    0    0    0   \n",
      "3    0    0    0    0    0    0    0    0    0    0    0    0    0    0    0   \n",
      "4    0    0    0    0    0    0    0    0    0    0    0    0    0    0    0   \n",
      "\n",
      "   428  430  432  434  435  436  437  438  439  440  441  442  443  444  445  \\\n",
      "0    0    0    0    0    0    0    0    0    0    0    0    0    0    0    0   \n",
      "1    0    0    0    0    0    0    0    0    0    0    0    0    0    0    0   \n",
      "2    0    0    0    0    0    0    0    0    0    0    0    0    0    0    0   \n",
      "3    0    0    0    0    0    0    0    0    0    0    0    0    0    0    0   \n",
      "4    0    0    0    0    0    0    0    0    0    0    0    0    0    0    0   \n",
      "\n",
      "   446  447  448  449  450  451  452  453  454  455  456  457  458  459  460  \\\n",
      "0    0    0    0    0    0    0    0    0    0    0    0    0    0    0    0   \n",
      "1    0    0    0    0    0    0    0    0    0    0    0    0    0    0    0   \n",
      "2    0    0    0    0    0    0    0    0    0    0    0    0    0    0    0   \n",
      "3    0    0    0    0    0    0    0    0    0    0    0    0    0    0    0   \n",
      "4    0    0    0    0    0    0    0    0    0    0    0    0    0    0    0   \n",
      "\n",
      "   461 ...   12  13  14  15  16  17  18  19  20  21  22  23  24  25  26  27  \\\n",
      "0    0 ...    0   0   0   0   0   0   0   0   0   0   0   0   0   0   0   0   \n",
      "1    0 ...    0   0   0   0   0   0   0   0   0   0   0   0   0   0   0   0   \n",
      "2    0 ...    0   0   0   0   0   0   0   0   0   0   0   0   0   0   0   0   \n",
      "3    0 ...    0   0   0   0   0   0   0   0   0   0   0   0   0   0   0   0   \n",
      "4    0 ...    0   0   0   0   0   0   0   0   0   0   0   0   0   0   0   0   \n",
      "\n",
      "   28  29  30  31  32  33  34  35  36  37  38  39  40  41  42  43  44  45  46  \\\n",
      "0   0   0   0   0   0   0   0   0   0   0   0   0   0   0   0   0   0   0   0   \n",
      "1   0   0   0   0   0   0   0   0   0   0   0   0   0   0   0   0   0   0   0   \n",
      "2   0   0   0   0   0   0   0   0   0   0   0   0   0   0   0   0   0   0   0   \n",
      "3   0   0   0   0   0   0   0   0   0   0   0   0   0   0   0   0   0   0   0   \n",
      "4   0   0   0   0   0   0   0   0   0   0   0   0   0   0   0   0   0   0   0   \n",
      "\n",
      "   47  48  49  50  51  52  53  54  55  56  57  58  59  60  61  62  63  64  65  \\\n",
      "0   0   0   0   0   0   0   0   0   0   0   0   0   0   0   0   0   0   0   0   \n",
      "1   0   0   0   0   0   0   0   0   0   0   0   0   0   0   0   0   0   0   0   \n",
      "2   0   0   0   0   0   0   0   0   0   0   0   0   0   0   0   0   0   0   0   \n",
      "3   0   0   0   0   0   0   0   0   0   0   0   0   0   0   0   0   0   0   0   \n",
      "4   0   0   0   0   0   0   0   0   0   0   0   0   0   0   0   0   0   0   0   \n",
      "\n",
      "   66  67  68  69  70  71  72  73  74  75  76  77  78  79  80  81  82  83  84  \\\n",
      "0   0   0   0   0   0   0   0   0   0   0   0   0   0   0   0   0   0   0   0   \n",
      "1   0   0   0   0   0   0   0   0   0   0   0   0   0   0   0   0   0   0   0   \n",
      "2   0   0   0   0   0   0   0   0   0   0   0   0   0   0   0   0   0   0   0   \n",
      "3   0   0   0   0   0   0   0   0   0   0   0   0   0   0   0   0   0   0   0   \n",
      "4   0   0   0   0   0   0   0   0   0   0   0   0   0   0   0   0   0   0   0   \n",
      "\n",
      "   85  86  87  88  89  90  91  92  93  94  95  96  97  98  99  100  101  102  \\\n",
      "0   0   0   0   0   0   0   0   0   0   0   0   0   0   0   0    0    0    0   \n",
      "1   0   0   0   0   0   0   0   0   0   0   0   0   0   0   0    0    0    0   \n",
      "2   0   0   0   0   0   0   0   0   0   0   0   0   0   0   0    0    0    0   \n",
      "3   0   0   0   0   0   0   0   0   0   0   0   0   0   0   0    0    0    0   \n",
      "4   0   0   0   0   0   0   0   0   0   0   0   0   0   0   0    0    0    0   \n",
      "\n",
      "   103  104  105  106  107  108  109  110  111  112  113  114  115  116  117  \\\n",
      "0    0    0    0    0    0    0    0    0    0    0    0    0    0    0    0   \n",
      "1    0    0    0    0    0    0    0    0    0    0    0    0    0    0    0   \n",
      "2    0    0    0    0    0    0    0    0    0    0    0    0    0    0    0   \n",
      "3    0    0    0    0    0    0    0    0    0    0    0    0    0    0    0   \n",
      "4    0    0    0    0    0    0    0    0    0    0    0    0    0    0    0   \n",
      "\n",
      "   118  119  120  121  122  123  124  125  126  127  128  129  130  131  132  \\\n",
      "0    0    0    0    0    0    0    0    0    0    0    0    0    0    0    0   \n",
      "1    0    0    0    0    0    0    0    0    0    0    0    0    0    0    0   \n",
      "2    0    0    0    0    0    0    0    0    0    0    0    0    0    0    0   \n",
      "3    0    0    0    0    0    0    0    0    0    0    0    0    0    0    0   \n",
      "4    0    0    0    0    0    0    0    0    0    0    0    0    0    0    0   \n",
      "\n",
      "   133  134  135  136  137  138  139  140  141  142  143  144  145  146  147  \\\n",
      "0    0    0    0    0    0    0    0    0    0    0    0    0    0    0    0   \n",
      "1    0    0    0    0    0    0    0    0    0    0    0    0    0    0    0   \n",
      "2    0    0    0    0    0    0    0    0    0    0    0    0    0    0    0   \n",
      "3    0    0    0    0    0    0    0    0    0    0    0    0    0    0    0   \n",
      "4    0    0    0    0    0    0    0    0    0    0    0    0    0    0    0   \n",
      "\n",
      "   148  149  150  151  152  153  154  155  156  157  158  159  160  161  162  \\\n",
      "0    0    0    0    0    0    0    0    0    0    0    0    0    0    0    0   \n",
      "1    0    0    0    0    0    0    0    0    0    0    0    0    0    0    0   \n",
      "2    0    0    0    0    0    0    0    0    0    0    0    0    0    0    0   \n",
      "3    0    0    0    0    0    0    0    0    0    0    0    0    0    0    0   \n",
      "4    0    0    0    0    0    0    0    0    0    0    0    0    0    0    0   \n",
      "\n",
      "   163  164  165  166  167  168  169  170  171  172  173  174  175  176  177  \\\n",
      "0    0    0    0    0    0    0    0    0    0    0    0    0    0    0    0   \n",
      "1    0    0    0    0    0    0    0    0    0    0    0    0    0    0    0   \n",
      "2    0    0    0    0    0    0    0    0    0    0    0    0    0    0    0   \n",
      "3    0    0    0    0    0    0    0    0    0    0    0    0    0    0    0   \n",
      "4    0    0    0    0    0    0    0    0    0    0    0    0    0    0    0   \n",
      "\n",
      "   178  179  180  181  182  183  184  185  186  187  188  189  190  191  192  \\\n",
      "0    0    0    0    0    0    0    0    0    0    0    0    0    0    0    0   \n",
      "1    0    0    0    0    0    0    0    0    0    0    0    0    0    0    0   \n",
      "2    0    0    0    0    0    0    0    0    0    0    0    0    0    0    0   \n",
      "3    0    0    0    0    0    0    0    0    0    0    0    0    0    0    0   \n",
      "4    0    0    0    0    0    0    0    0    0    0    0    0    0    0    0   \n",
      "\n",
      "   193  194  195  196  197  198  199  200  201  202  203  204  205  206  207  \\\n",
      "0    0    0    0    0    0    0    0    0    0    0    0    0    0    0    0   \n",
      "1    0    0    0    0    0    0    0    0    0    0    0    0    0    0    0   \n",
      "2    0    0    0    0    0    0    0    0    0    0    0    0    0    0    0   \n",
      "3    0    0    0    0    0    0    0    0    0    0    0    0    0    0    0   \n",
      "4    0    0    0    0    0    0    0    0    0    0    0    0    0    0    0   \n",
      "\n",
      "   208  209  210  211  212  213  214  215  216  217  218  219  220  221  222  \\\n",
      "0    0    0    0    0    0    0    0    0    0    0    0    0    0    0    0   \n",
      "1    0    0    0    0    0    0    0    0    0    0    0    0    0    0    0   \n",
      "2    0    0    0    0    0    0    0    0    0    0    0    0    0    0    0   \n",
      "3    0    0    0    0    0    0    0    0    0    0    0    0    0    0    0   \n",
      "4    0    0    0    0    0    0    0    0    0    0    0    0    0    0    0   \n",
      "\n",
      "   223  224  225  226  227  228  229  230  231  232  233  234  235  236  237  \\\n",
      "0    0    0    0    0    0    0    0    0    0    0    0    0    0    0    0   \n",
      "1    0    0    0    0    0    0    0    0    0    0    0    0    0    0    0   \n",
      "2    0    0    0    0    0    0    0    0    0    0    0    0    0    0    0   \n",
      "3    0    0    0    0    0    0    0    0    0    0    0    0    0    0    0   \n",
      "4    0    0    0    0    0    0    0    0    0    0    0    0    0    0    0   \n",
      "\n",
      "   238  239  240  241  242  243  244  245  246  247  248  249  250  251  252  \\\n",
      "0    0    0    0    0    0    0    0    0    0    0    0    0    0    0    0   \n",
      "1    0    0    0    0    0    0    0    0    0    0    0    0    0    0    0   \n",
      "2    0    0    0    0    0    0    0    0    0    0    0    0    0    0    0   \n",
      "3    0    0    0    0    0    0    0    0    0    0    0    0    0    0    0   \n",
      "4    0    0    0    0    0    0    0    0    0    0    0    0    0    0    0   \n",
      "\n",
      "   253  254  255  0  1  2  3  4  5  6  7  8  9  10  11  12  13  14  15  16  \\\n",
      "0    0    0    1  0  0  0  0  0  0  0  0  0  0   0   0   0   0   0   0   0   \n",
      "1    0    0    1  0  0  0  0  0  0  0  0  0  0   0   0   0   0   0   0   0   \n",
      "2    0    0    1  0  0  0  0  0  0  0  0  0  0   0   0   0   0   0   0   0   \n",
      "3    0    0    1  0  0  0  0  0  0  0  0  0  0   0   0   0   0   0   0   0   \n",
      "4    0    0    1  0  0  0  0  0  0  0  0  0  0   0   0   0   0   0   0   0   \n",
      "\n",
      "   17  18  19  20  21  22  23  24  25  26  27  28  29  30  31  32  33  34  35  \\\n",
      "0   0   0   0   0   0   0   0   0   0   0   0   0   0   0   0   0   0   0   0   \n",
      "1   0   0   0   0   0   0   0   0   0   0   0   0   0   0   0   0   0   0   0   \n",
      "2   0   0   0   0   0   0   0   0   0   0   0   0   0   0   0   0   0   0   0   \n",
      "3   0   0   0   0   0   0   0   0   0   0   0   0   0   0   0   0   0   0   0   \n",
      "4   0   0   0   0   0   0   0   0   0   0   0   0   0   0   0   0   0   0   0   \n",
      "\n",
      "   36  37  38  39  40  41  42  43  44  45  46  47  48  49  50  51  52  53  54  \\\n",
      "0   0   0   0   0   0   0   0   0   0   0   0   0   0   0   0   0   0   0   0   \n",
      "1   0   0   0   0   0   0   0   0   0   0   0   0   0   0   0   0   0   0   0   \n",
      "2   0   0   0   0   0   0   0   0   0   0   0   0   0   0   0   0   0   0   0   \n",
      "3   0   0   0   0   0   0   0   0   0   0   0   0   0   0   0   0   0   0   0   \n",
      "4   0   0   0   0   0   0   0   0   0   0   0   0   0   0   0   0   0   0   0   \n",
      "\n",
      "   55  56  57  58  59  60  61  62  63  64  65  66  67  68  69  70  71  72  73  \\\n",
      "0   0   0   0   0   0   0   0   0   0   0   0   0   0   0   0   0   0   0   0   \n",
      "1   0   0   0   0   0   0   0   0   0   0   0   0   0   0   0   0   0   0   0   \n",
      "2   0   0   0   0   0   0   0   0   0   0   0   0   0   0   0   0   0   0   0   \n",
      "3   0   0   0   0   0   0   0   0   0   0   0   0   0   0   0   0   0   0   0   \n",
      "4   0   0   0   0   0   0   0   0   0   0   0   0   0   0   0   0   0   0   0   \n",
      "\n",
      "   74  75  76  77  78  79  80  81  82  83  84  85  86  87  88  89  90  91  92  \\\n",
      "0   0   0   0   0   0   0   0   0   0   0   0   0   0   0   0   0   0   0   0   \n",
      "1   0   0   0   0   0   0   0   0   0   0   0   0   0   0   0   0   0   0   0   \n",
      "2   0   0   0   0   0   0   0   0   0   0   0   0   0   0   0   0   0   0   0   \n",
      "3   0   0   0   0   0   0   0   0   0   0   0   0   0   0   0   0   0   0   0   \n",
      "4   0   0   0   0   0   0   0   0   0   0   0   0   0   0   0   0   0   0   0   \n",
      "\n",
      "   93  94  95  96  97  98  99  100  101  102  103  104  105  106  107  108  \\\n",
      "0   0   0   0   0   0   0   0    0    0    0    0    0    0    0    0    0   \n",
      "1   0   0   0   0   0   0   0    0    0    0    0    0    0    0    0    0   \n",
      "2   0   0   0   0   0   0   0    0    0    0    0    0    0    0    0    0   \n",
      "3   0   0   0   0   0   0   0    0    0    0    0    0    0    0    0    0   \n",
      "4   0   0   0   0   0   0   0    0    0    0    0    0    0    0    0    0   \n",
      "\n",
      "   109  110  111  112  113  114  115  116  117  118  119  120  121  122  123  \\\n",
      "0    0    0    0    0    0    0    0    0    0    0    0    0    0    0    0   \n",
      "1    0    0    0    0    0    0    0    0    0    0    0    0    0    0    0   \n",
      "2    0    0    0    0    0    0    0    0    0    0    0    0    0    0    0   \n",
      "3    0    0    0    0    0    0    0    0    0    0    0    0    0    0    0   \n",
      "4    0    0    0    0    0    0    0    0    0    0    0    0    0    0    0   \n",
      "\n",
      "   124  125  126  127  128  129  130  131  132  133  134  135  136  137  138  \\\n",
      "0    0    0    0    0    0    0    0    0    0    0    0    0    0    0    0   \n",
      "1    0    0    0    0    0    0    0    0    0    0    0    0    0    0    0   \n",
      "2    0    0    0    0    0    0    0    0    0    0    0    0    0    0    0   \n",
      "3    0    0    0    0    0    0    0    0    0    0    0    0    0    0    0   \n",
      "4    0    0    0    0    0    0    0    0    0    0    0    0    0    0    0   \n",
      "\n",
      "   139  140  141  142  143  144  145  146  147  148  149  150  151  152  153  \\\n",
      "0    0    0    0    0    0    0    0    0    0    0    0    0    0    0    0   \n",
      "1    0    0    0    0    0    0    0    0    0    0    0    0    0    0    0   \n",
      "2    0    0    0    0    0    0    0    0    0    0    0    0    0    0    0   \n",
      "3    0    0    0    0    0    0    0    0    0    0    0    0    0    0    0   \n",
      "4    0    0    0    0    0    0    0    0    0    0    0    0    0    0    0   \n",
      "\n",
      "   154  155  156  157  158  159  160  161  162  163  164  165  166  167  168  \\\n",
      "0    0    0    0    0    0    0    0    0    0    0    0    0    0    0    0   \n",
      "1    0    0    0    0    0    0    0    0    0    0    0    0    0    0    0   \n",
      "2    0    0    0    0    0    0    0    0    0    0    0    0    0    0    0   \n",
      "3    0    0    0    0    0    0    0    0    0    0    0    0    0    0    0   \n",
      "4    0    0    0    0    0    0    0    0    0    0    0    0    0    0    0   \n",
      "\n",
      "   169  170  171  172  173  174  175  176  177  178  179  180  181  182  183  \\\n",
      "0    0    0    0    0    0    0    0    0    0    0    0    0    0    0    0   \n",
      "1    0    0    0    0    0    0    0    0    0    0    0    0    0    0    0   \n",
      "2    0    0    0    0    0    0    0    0    0    0    0    0    0    0    0   \n",
      "3    0    0    0    0    0    0    0    0    0    0    0    0    0    0    0   \n",
      "4    0    0    0    0    0    0    0    0    0    0    0    0    0    0    0   \n",
      "\n",
      "   184  185  186  187  188  189  190  191  192  193  194  195  196  197  198  \\\n",
      "0    0    0    0    0    0    0    0    0    0    0    0    0    0    0    0   \n",
      "1    0    0    0    0    0    0    0    0    0    0    0    0    0    0    0   \n",
      "2    0    0    0    0    0    0    0    0    0    0    0    0    0    0    0   \n",
      "3    0    0    0    0    0    0    0    0    0    0    0    0    0    0    0   \n",
      "4    0    0    0    0    0    0    0    0    0    0    0    0    0    0    0   \n",
      "\n",
      "   199  200  201  202  203  204  205  206  207  208  209  210  211  212  213  \\\n",
      "0    0    0    0    0    0    0    0    0    0    0    0    0    0    0    0   \n",
      "1    0    0    0    0    0    0    0    0    0    0    0    0    0    0    0   \n",
      "2    0    0    0    0    0    0    0    0    0    0    0    0    0    0    0   \n",
      "3    0    0    0    0    0    0    0    0    0    0    0    0    0    0    0   \n",
      "4    0    0    0    0    0    0    0    0    0    0    0    0    0    0    0   \n",
      "\n",
      "   214  215  216  217  218  219  220  221  222  223  224  225  226  227  228  \\\n",
      "0    0    0    0    0    0    0    0    0    0    0    0    0    0    0    0   \n",
      "1    0    0    0    0    0    0    0    0    0    0    0    0    0    0    0   \n",
      "2    0    0    0    0    0    0    0    0    0    0    0    0    0    0    0   \n",
      "3    0    0    0    0    0    0    0    0    0    0    0    0    0    0    0   \n",
      "4    0    0    0    0    0    0    0    0    0    0    0    0    0    0    0   \n",
      "\n",
      "   229  230  231  232  233  234  235  236  237  238  239  240  241  242  243  \\\n",
      "0    0    0    0    0    0    0    0    0    0    0    0    0    0    0    0   \n",
      "1    0    0    0    0    0    0    0    0    0    0    0    0    0    0    0   \n",
      "2    0    0    0    0    0    0    0    0    0    0    0    0    0    0    0   \n",
      "3    0    0    0    0    0    0    0    0    0    0    0    0    0    0    0   \n",
      "4    0    0    0    0    0    0    0    0    0    0    0    0    0    0    0   \n",
      "\n",
      "   244  245  246  247  248  249  250  251  252  253  254  255  \n",
      "0    0    0    0    0    0    0    0    0    0    0    0    1  \n",
      "1    0    0    0    0    0    0    0    0    0    0    0    1  \n",
      "2    0    0    0    0    0    0    0    0    0    0    0    1  \n",
      "3    0    0    0    0    0    0    0    0    0    0    0    1  \n",
      "4    0    0    0    0    0    0    0    0    0    0    0    1  \n",
      "\n",
      "[5 rows x 1423 columns]\n"
     ]
    }
   ],
   "source": [
    "print(train.head(),test.head())"
   ]
  },
  {
   "cell_type": "markdown",
   "metadata": {
    "collapsed": true
   },
   "source": [
    "### Model 1 - XGB"
   ]
  },
  {
   "cell_type": "code",
   "execution_count": 36,
   "metadata": {},
   "outputs": [
    {
     "name": "stderr",
     "output_type": "stream",
     "text": [
      "/home/ab/anaconda3/lib/python3.6/site-packages/sklearn/cross_validation.py:41: DeprecationWarning: This module was deprecated in version 0.18 in favor of the model_selection module into which all the refactored classes and functions are moved. Also note that the interface of the new CV iterators are different from that of this module. This module will be removed in 0.20.\n",
      "  \"This module will be removed in 0.20.\", DeprecationWarning)\n"
     ]
    }
   ],
   "source": [
    "from sklearn.model_selection import train_test_split\n",
    "import xgboost as xgb"
   ]
  },
  {
   "cell_type": "code",
   "execution_count": 37,
   "metadata": {
    "collapsed": true,
    "scrolled": true
   },
   "outputs": [],
   "source": [
    "feature_names = [x for x in train.columns if x not in ['connection_id','target']]\n",
    "target = train['target']"
   ]
  },
  {
   "cell_type": "code",
   "execution_count": 38,
   "metadata": {},
   "outputs": [
    {
     "name": "stderr",
     "output_type": "stream",
     "text": [
      "/home/ab/anaconda3/lib/python3.6/site-packages/sklearn/model_selection/_split.py:2026: FutureWarning: From version 0.21, test_size will always complement train_size unless both are specified.\n",
      "  FutureWarning)\n"
     ]
    }
   ],
   "source": [
    "X_train, X_valid, y_train, y_valid = train_test_split(train, target, train_size = 0.8, stratify = target, random_state = 1996)"
   ]
  },
  {
   "cell_type": "code",
   "execution_count": 39,
   "metadata": {
    "collapsed": true
   },
   "outputs": [],
   "source": [
    "## function for multi-accuracy\n",
    "from sklearn.metrics import accuracy_score\n",
    "def multAcc(pred, dtrain):\n",
    "    label = dtrain.get_label()\n",
    "    acc = accuracy_score(label, pred)\n",
    "    return 'maccuracy', acc"
   ]
  },
  {
   "cell_type": "code",
   "execution_count": 40,
   "metadata": {},
   "outputs": [
    {
     "name": "stdout",
     "output_type": "stream",
     "text": [
      "(169307, 1479)\n",
      "1477\n",
      "(91166, 1423)\n",
      "Index(['connection_id',        'cont_1',        'cont_2',        'cont_3',\n",
      "              'cont_8',        'cont_9',       'cont_10',       'cont_11',\n",
      "             'cont_12',       'cont_13',\n",
      "       ...\n",
      "                   246,             247,             248,             249,\n",
      "                   250,             251,             252,             253,\n",
      "                   254,             255],\n",
      "      dtype='object', length=1479) Index(['connection_id',        'cont_1',        'cont_2',        'cont_3',\n",
      "              'cont_8',        'cont_9',       'cont_10',       'cont_11',\n",
      "             'cont_12',       'cont_13',\n",
      "       ...\n",
      "                   246,             247,             248,             249,\n",
      "                   250,             251,             252,             253,\n",
      "                   254,             255],\n",
      "      dtype='object', length=1423)\n"
     ]
    }
   ],
   "source": [
    "print(train.shape)\n",
    "print(len(feature_names))\n",
    "print(test.shape)\n",
    "print(train.columns,test.columns)"
   ]
  },
  {
   "cell_type": "code",
   "execution_count": 41,
   "metadata": {
    "collapsed": true
   },
   "outputs": [],
   "source": [
    "# default parameters\n",
    "params = {}\n",
    "params['objective'] = 'multi:softmax'\n",
    "params['eta'] = 0.02\n",
    "params['silent'] = True\n",
    "params['max_depth'] = 6\n",
    "params['subsample'] = 0.9\n",
    "params['colsample_bytree'] = 0.9\n",
    "params['nthread']=-1\n",
    "params['num_class']=3"
   ]
  },
  {
   "cell_type": "code",
   "execution_count": 42,
   "metadata": {},
   "outputs": [
    {
     "data": {
      "text/plain": [
       "\"\\n{'min_child_weight': 50, 'eta': 0.3, 'colsample_bytree': 0.3, 'max_depth': 10,\\n            'subsample': 0.8, 'lambda': 1., 'nthread': -1, 'booster' : 'gbtree', 'silent': 1,\\n            'eval_metric': 'rmse', 'objective': 'reg:linear'}\\n\""
      ]
     },
     "execution_count": 42,
     "metadata": {},
     "output_type": "execute_result"
    }
   ],
   "source": [
    "# default parameters\n",
    "params_ = {}\n",
    "params_['objective'] = 'multi:softmax'\n",
    "params_['eta'] = 0.2\n",
    "params_['silent'] = True\n",
    "params_['max_depth'] = 10\n",
    "params_['subsample'] = 0.9\n",
    "params_['colsample_bytree'] = 0.9\n",
    "params_['nthread']=-1\n",
    "params_['num_class']=3\n",
    "params['booster']='gbtree'\n",
    "params['lambda']=.8\n",
    "params['min_child_weight']=20\n",
    "'''\n",
    "{'min_child_weight': 50, 'eta': 0.3, 'colsample_bytree': 0.3, 'max_depth': 10,\n",
    "            'subsample': 0.8, 'lambda': 1., 'nthread': -1, 'booster' : 'gbtree', 'silent': 1,\n",
    "            'eval_metric': 'rmse', 'objective': 'reg:linear'}\n",
    "'''"
   ]
  },
  {
   "cell_type": "code",
   "execution_count": null,
   "metadata": {
    "collapsed": true
   },
   "outputs": [],
   "source": [
    "dtrain = xgb.DMatrix(data=train[feature_names], label=target)\n",
    "#dtrain = xgb.DMatrix(data=X_train[feature_names], label=y_train)\n",
    "dvalid = xgb.DMatrix(data=X_valid[feature_names], label=y_valid)\n",
    "dtest = xgb.DMatrix(data=test[feature_names])\n",
    "watchlist = [(dtrain, 'train'),(dvalid, 'eval')]"
   ]
  },
  {
   "cell_type": "code",
   "execution_count": 89,
   "metadata": {
    "collapsed": true
   },
   "outputs": [],
   "source": [
    "clf1_1 = xgb.train(params, dtrain, 350)"
   ]
  },
  {
   "cell_type": "code",
   "execution_count": 87,
   "metadata": {
    "scrolled": false
   },
   "outputs": [
    {
     "name": "stdout",
     "output_type": "stream",
     "text": [
      "[0]\ttrain-maccuracy:0.778508\teval-maccuracy:0.777656\n",
      "Multiple eval metrics have been passed: 'eval-maccuracy' will be used for early stopping.\n",
      "\n",
      "Will train until eval-maccuracy hasn't improved in 100 rounds.\n",
      "[50]\ttrain-maccuracy:0.780184\teval-maccuracy:0.779812\n",
      "[100]\ttrain-maccuracy:0.780774\teval-maccuracy:0.780462\n",
      "[150]\ttrain-maccuracy:0.78121\teval-maccuracy:0.780757\n",
      "[200]\ttrain-maccuracy:0.781409\teval-maccuracy:0.780816\n",
      "[250]\ttrain-maccuracy:0.781587\teval-maccuracy:0.780846\n",
      "[300]\ttrain-maccuracy:0.781712\teval-maccuracy:0.780875\n",
      "[350]\ttrain-maccuracy:0.78183\teval-maccuracy:0.780905\n",
      "Stopping. Best iteration:\n",
      "[258]\ttrain-maccuracy:0.781616\teval-maccuracy:0.780905\n",
      "\n"
     ]
    }
   ],
   "source": [
    "clf1_2 = xgb.train(params, dtrain, 20000, watchlist, maximize=True, verbose_eval=50, early_stopping_rounds=100, feval=multAcc)"
   ]
  },
  {
   "cell_type": "code",
   "execution_count": 91,
   "metadata": {
    "collapsed": true
   },
   "outputs": [],
   "source": [
    "sub=pd.read_csv('test_data.csv')"
   ]
  },
  {
   "cell_type": "code",
   "execution_count": 92,
   "metadata": {
    "collapsed": true
   },
   "outputs": [],
   "source": [
    "pred = clf1_1.predict(dtest)"
   ]
  },
  {
   "cell_type": "code",
   "execution_count": 93,
   "metadata": {
    "collapsed": true
   },
   "outputs": [],
   "source": [
    "## make submission\n",
    "sub['target'] = pred\n",
    "sub['target'] = sub['target'].astype(int)\n",
    "sub[['connection_id','target']].to_csv('XGB_06_NOV_78.0905_.01.csv', index=False)"
   ]
  },
  {
   "cell_type": "markdown",
   "metadata": {
    "collapsed": true
   },
   "source": [
    "### Model 2 - Decision Tree"
   ]
  },
  {
   "cell_type": "code",
   "execution_count": 153,
   "metadata": {
    "collapsed": true
   },
   "outputs": [],
   "source": [
    "from sklearn.model_selection import cross_val_score\n",
    "from sklearn.tree import DecisionTreeClassifier"
   ]
  },
  {
   "cell_type": "code",
   "execution_count": 154,
   "metadata": {
    "collapsed": true
   },
   "outputs": [],
   "source": [
    "## set up model\n",
    "clf2 = DecisionTreeClassifier(max_depth=9, min_samples_split=7)"
   ]
  },
  {
   "cell_type": "code",
   "execution_count": 155,
   "metadata": {},
   "outputs": [
    {
     "name": "stderr",
     "output_type": "stream",
     "text": [
      "Exception ignored in: <bound method DMatrix.__del__ of <xgboost.core.DMatrix object at 0x0000026A8356E390>>\n",
      "Traceback (most recent call last):\n",
      "  File \"C:\\ProgramData\\Anaconda3\\lib\\site-packages\\xgboost\\core.py\", line 324, in __del__\n",
      "    _check_call(_LIB.XGDMatrixFree(self.handle))\n",
      "AttributeError: 'DMatrix' object has no attribute 'handle'\n"
     ]
    },
    {
     "data": {
      "text/plain": [
       "DecisionTreeClassifier(class_weight=None, criterion='gini', max_depth=9,\n",
       "            max_features=None, max_leaf_nodes=None,\n",
       "            min_impurity_decrease=0.0, min_impurity_split=None,\n",
       "            min_samples_leaf=1, min_samples_split=7,\n",
       "            min_weight_fraction_leaf=0.0, presort=False, random_state=None,\n",
       "            splitter='best')"
      ]
     },
     "execution_count": 155,
     "metadata": {},
     "output_type": "execute_result"
    }
   ],
   "source": [
    "clf2.fit(X_train[feature_names],y_train)"
   ]
  },
  {
   "cell_type": "code",
   "execution_count": null,
   "metadata": {
    "collapsed": true
   },
   "outputs": [],
   "source": []
  },
  {
   "cell_type": "code",
   "execution_count": 156,
   "metadata": {},
   "outputs": [
    {
     "name": "stdout",
     "output_type": "stream",
     "text": [
      "0.780077963499\n"
     ]
    }
   ],
   "source": [
    "print(accuracy_score(y_valid,clf2.predict(X_valid[feature_names])))"
   ]
  },
  {
   "cell_type": "code",
   "execution_count": 42,
   "metadata": {},
   "outputs": [
    {
     "data": {
      "text/plain": [
       "DecisionTreeClassifier(class_weight=None, criterion='gini', max_depth=8,\n",
       "            max_features='sqrt', max_leaf_nodes=None,\n",
       "            min_impurity_split=1e-07, min_samples_leaf=1,\n",
       "            min_samples_split=7, min_weight_fraction_leaf=0.0,\n",
       "            presort=False, random_state=None, splitter='best')"
      ]
     },
     "execution_count": 42,
     "metadata": {},
     "output_type": "execute_result"
    }
   ],
   "source": [
    "## train model\n",
    "clf2.fit(train[feature_names], target)"
   ]
  },
  {
   "cell_type": "code",
   "execution_count": 44,
   "metadata": {
    "collapsed": true
   },
   "outputs": [],
   "source": [
    "## make prediction\n",
    "pred2 = clf2.predict(test[feature_names])"
   ]
  },
  {
   "cell_type": "code",
   "execution_count": 47,
   "metadata": {
    "collapsed": true
   },
   "outputs": [],
   "source": [
    "## make submission\n",
    "sub = pd.read_csv('sample_submission.csv')\n",
    "sub['target'] = pred2\n",
    "sub['target'] = sub['target'].astype(int)\n",
    "sub.to_csv('sub2.csv', index=False)"
   ]
  },
  {
   "cell_type": "markdown",
   "metadata": {},
   "source": [
    "### Model 3 - Logistic Regression"
   ]
  },
  {
   "cell_type": "code",
   "execution_count": 34,
   "metadata": {
    "collapsed": true
   },
   "outputs": [],
   "source": [
    "from sklearn.linear_model import LogisticRegression"
   ]
  },
  {
   "cell_type": "code",
   "execution_count": 50,
   "metadata": {
    "collapsed": true
   },
   "outputs": [],
   "source": [
    "clf3 = LogisticRegression(C=0.01,n_jobs=-1,solver='sag')"
   ]
  },
  {
   "cell_type": "code",
   "execution_count": 48,
   "metadata": {},
   "outputs": [
    {
     "name": "stderr",
     "output_type": "stream",
     "text": [
      "C:\\ProgramData\\Anaconda3\\lib\\site-packages\\sklearn\\linear_model\\sag.py:326: ConvergenceWarning: The max_iter was reached which means the coef_ did not converge\n",
      "  \"the coef_ did not converge\", ConvergenceWarning)\n"
     ]
    },
    {
     "data": {
      "text/plain": [
       "LogisticRegression(C=0.01, class_weight=None, dual=False, fit_intercept=True,\n",
       "          intercept_scaling=1, max_iter=100, multi_class='ovr', n_jobs=-1,\n",
       "          penalty='l2', random_state=None, solver='sag', tol=0.0001,\n",
       "          verbose=0, warm_start=False)"
      ]
     },
     "execution_count": 48,
     "metadata": {},
     "output_type": "execute_result"
    }
   ],
   "source": [
    "clf3.fit(X_train[feature_names],y_train)"
   ]
  },
  {
   "cell_type": "code",
   "execution_count": 51,
   "metadata": {},
   "outputs": [
    {
     "name": "stderr",
     "output_type": "stream",
     "text": [
      "C:\\ProgramData\\Anaconda3\\lib\\site-packages\\sklearn\\linear_model\\sag.py:326: ConvergenceWarning: The max_iter was reached which means the coef_ did not converge\n",
      "  \"the coef_ did not converge\", ConvergenceWarning)\n"
     ]
    },
    {
     "data": {
      "text/plain": [
       "LogisticRegression(C=0.01, class_weight=None, dual=False, fit_intercept=True,\n",
       "          intercept_scaling=1, max_iter=100, multi_class='ovr', n_jobs=-1,\n",
       "          penalty='l2', random_state=None, solver='sag', tol=0.0001,\n",
       "          verbose=0, warm_start=False)"
      ]
     },
     "execution_count": 51,
     "metadata": {},
     "output_type": "execute_result"
    }
   ],
   "source": [
    "clf3.fit(train[feature_names], target)"
   ]
  },
  {
   "cell_type": "code",
   "execution_count": 42,
   "metadata": {},
   "outputs": [
    {
     "name": "stdout",
     "output_type": "stream",
     "text": [
      "0.731705156222\n"
     ]
    }
   ],
   "source": [
    "print(accuracy_score(y_valid,clf3.predict(X_valid[feature_names])))"
   ]
  },
  {
   "cell_type": "code",
   "execution_count": 49,
   "metadata": {},
   "outputs": [
    {
     "name": "stdout",
     "output_type": "stream",
     "text": [
      "0.731705156222\n"
     ]
    }
   ],
   "source": [
    "print(accuracy_score(y_valid,clf3.predict(X_valid[feature_names])))"
   ]
  },
  {
   "cell_type": "code",
   "execution_count": 52,
   "metadata": {
    "collapsed": true
   },
   "outputs": [],
   "source": [
    "pred3 = clf3.predict(test[feature_names])"
   ]
  },
  {
   "cell_type": "code",
   "execution_count": 53,
   "metadata": {
    "collapsed": true
   },
   "outputs": [],
   "source": [
    "## make submission\n",
    "sub = pd.read_csv('sample_submission.csv')\n",
    "sub['target'] = pred3\n",
    "sub['target'] = sub['target'].astype(int)\n",
    "sub.to_csv('sub3_Logistic.csv', index=False)"
   ]
  },
  {
   "cell_type": "markdown",
   "metadata": {
    "collapsed": true
   },
   "source": [
    "# MODEL 4 - NaiveBayes Classifier"
   ]
  },
  {
   "cell_type": "code",
   "execution_count": 96,
   "metadata": {
    "collapsed": true
   },
   "outputs": [],
   "source": [
    "from sklearn.naive_bayes import GaussianNB"
   ]
  },
  {
   "cell_type": "code",
   "execution_count": 117,
   "metadata": {
    "collapsed": true
   },
   "outputs": [],
   "source": [
    "from sklearn.preprocessing import StandardScaler"
   ]
  },
  {
   "cell_type": "code",
   "execution_count": 118,
   "metadata": {
    "collapsed": true
   },
   "outputs": [],
   "source": [
    "x_tr=StandardScaler().fit_transform(X_train[feature_names])\n",
    "x_ts=StandardScaler().fit_transform(X_valid[feature_names])"
   ]
  },
  {
   "cell_type": "code",
   "execution_count": 119,
   "metadata": {
    "collapsed": true
   },
   "outputs": [],
   "source": [
    "clf4=GaussianNB()"
   ]
  },
  {
   "cell_type": "code",
   "execution_count": 120,
   "metadata": {},
   "outputs": [
    {
     "data": {
      "text/plain": [
       "GaussianNB(priors=None)"
      ]
     },
     "execution_count": 120,
     "metadata": {},
     "output_type": "execute_result"
    }
   ],
   "source": [
    "clf4.fit(X_train[feature_names],y_train)"
   ]
  },
  {
   "cell_type": "code",
   "execution_count": 121,
   "metadata": {},
   "outputs": [
    {
     "name": "stdout",
     "output_type": "stream",
     "text": [
      "0.753292776564\n"
     ]
    }
   ],
   "source": [
    "print(accuracy_score(y_valid,clf4.predict(X_valid[feature_names])))"
   ]
  },
  {
   "cell_type": "code",
   "execution_count": 122,
   "metadata": {},
   "outputs": [
    {
     "data": {
      "text/plain": [
       "GaussianNB(priors=None)"
      ]
     },
     "execution_count": 122,
     "metadata": {},
     "output_type": "execute_result"
    }
   ],
   "source": [
    "clf4.fit(train[feature_names], target)"
   ]
  },
  {
   "cell_type": "code",
   "execution_count": 124,
   "metadata": {
    "collapsed": true
   },
   "outputs": [],
   "source": [
    "pred3 = clf4.predict(test[feature_names])"
   ]
  },
  {
   "cell_type": "code",
   "execution_count": 125,
   "metadata": {
    "collapsed": true
   },
   "outputs": [],
   "source": [
    "## make submission\n",
    "sub = pd.read_csv('sample_submission.csv')\n",
    "sub['target'] = pred3\n",
    "sub['target'] = sub['target'].astype(int)\n",
    "sub.to_csv('sub5_NaiveBayes.csv', index=False)"
   ]
  },
  {
   "cell_type": "markdown",
   "metadata": {},
   "source": [
    "# Model 5 : -    RandomForest"
   ]
  },
  {
   "cell_type": "code",
   "execution_count": 340,
   "metadata": {
    "collapsed": true
   },
   "outputs": [],
   "source": [
    "from sklearn.ensemble import RandomForestClassifier"
   ]
  },
  {
   "cell_type": "code",
   "execution_count": 483,
   "metadata": {
    "collapsed": true
   },
   "outputs": [],
   "source": [
    "clf=RandomForestClassifier(n_estimators=200, criterion='entropy', max_depth=None, min_samples_split=2,\n",
    "                           min_samples_leaf=50, min_weight_fraction_leaf=0.0, max_features=None, \n",
    "                           max_leaf_nodes=None, min_impurity_decrease=0.0, min_impurity_split=None,\n",
    "                           bootstrap=True, oob_score=True, n_jobs=-1, random_state=1996, verbose=0,\n",
    "                           warm_start=False, class_weight=None)"
   ]
  },
  {
   "cell_type": "code",
   "execution_count": 484,
   "metadata": {},
   "outputs": [
    {
     "data": {
      "text/plain": [
       "RandomForestClassifier(bootstrap=True, class_weight=None, criterion='entropy',\n",
       "            max_depth=None, max_features=None, max_leaf_nodes=None,\n",
       "            min_impurity_decrease=0.0, min_impurity_split=None,\n",
       "            min_samples_leaf=50, min_samples_split=2,\n",
       "            min_weight_fraction_leaf=0.0, n_estimators=200, n_jobs=-1,\n",
       "            oob_score=True, random_state=1996, verbose=0, warm_start=False)"
      ]
     },
     "execution_count": 484,
     "metadata": {},
     "output_type": "execute_result"
    }
   ],
   "source": [
    "clf.fit(X_train[feature_names],y_train)"
   ]
  },
  {
   "cell_type": "code",
   "execution_count": 485,
   "metadata": {},
   "outputs": [
    {
     "name": "stdout",
     "output_type": "stream",
     "text": [
      "0.780402811411\n"
     ]
    }
   ],
   "source": [
    "print(accuracy_score(y_valid,clf.predict(X_valid[feature_names])))"
   ]
  },
  {
   "cell_type": "code",
   "execution_count": 347,
   "metadata": {},
   "outputs": [
    {
     "data": {
      "text/plain": [
       "RandomForestClassifier(bootstrap=True, class_weight=None, criterion='entropy',\n",
       "            max_depth=None, max_features=None, max_leaf_nodes=None,\n",
       "            min_impurity_decrease=0.0, min_impurity_split=None,\n",
       "            min_samples_leaf=50, min_samples_split=2,\n",
       "            min_weight_fraction_leaf=0.0, n_estimators=1200, n_jobs=-1,\n",
       "            oob_score=True, random_state=1996, verbose=0, warm_start=False)"
      ]
     },
     "execution_count": 347,
     "metadata": {},
     "output_type": "execute_result"
    }
   ],
   "source": [
    "clf.fit(train[feature_names], target)"
   ]
  },
  {
   "cell_type": "code",
   "execution_count": 348,
   "metadata": {
    "collapsed": true
   },
   "outputs": [],
   "source": [
    "pred3 = clf.predict(test[feature_names])"
   ]
  },
  {
   "cell_type": "code",
   "execution_count": 349,
   "metadata": {
    "collapsed": true
   },
   "outputs": [],
   "source": [
    "## make submission\n",
    "sub = pd.read_csv('sample_submission.csv')\n",
    "sub['target'] = pred3\n",
    "sub['target'] = sub['target'].astype(int)\n",
    "sub.to_csv('sub4_Random_f_2.csv', index=False)"
   ]
  },
  {
   "cell_type": "code",
   "execution_count": null,
   "metadata": {
    "collapsed": true
   },
   "outputs": [],
   "source": []
  },
  {
   "cell_type": "code",
   "execution_count": null,
   "metadata": {
    "collapsed": true
   },
   "outputs": [],
   "source": []
  }
 ],
 "metadata": {
  "kernelspec": {
   "display_name": "Python 3",
   "language": "python",
   "name": "python3"
  },
  "language_info": {
   "codemirror_mode": {
    "name": "ipython",
    "version": 3
   },
   "file_extension": ".py",
   "mimetype": "text/x-python",
   "name": "python",
   "nbconvert_exporter": "python",
   "pygments_lexer": "ipython3",
   "version": "3.6.3"
  }
 },
 "nbformat": 4,
 "nbformat_minor": 2
}
