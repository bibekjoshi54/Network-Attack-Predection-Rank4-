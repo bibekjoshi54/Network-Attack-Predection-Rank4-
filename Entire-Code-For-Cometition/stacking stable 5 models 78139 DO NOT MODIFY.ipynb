{
 "cells": [
  {
   "cell_type": "code",
   "execution_count": 109,
   "metadata": {
    "collapsed": true
   },
   "outputs": [],
   "source": [
    "import pandas as pd\n",
    "import numpy as np\n",
    "import sklearn\n",
    "import seaborn as sns\n",
    "import matplotlib.pyplot as plt\n",
    "from sklearn.ensemble import RandomForestClassifier, AdaBoostClassifier, GradientBoostingClassifier, ExtraTreesClassifier\n",
    "from sklearn.svm import SVC\n",
    "from sklearn.cross_validation import KFold\n",
    "\n",
    "class Data():\n",
    "    def __init__(self,train,test):\n",
    "        self.test = test\n",
    "        self.train = train\n",
    "        print('train : ' + str(self.train.shape))\n",
    "        print('test: ' + str(self.test.shape))\n",
    "        \n",
    "    def describe(self,test=False):\n",
    "        if test:\n",
    "            return self.train.describe(), self.test.describe()\n",
    "        return self.train.describe()\n",
    "    \n",
    "    def columns(self):\n",
    "        return [i for i in self.test.columns if i not in ['connection_id','target']]\n",
    "    \n",
    "    def getCustom(self,substring):\n",
    "        return [i for i in self.columns() if substring in i]\n",
    "\n",
    "    def drop(self,colName):\n",
    "        self.train = self.train.drop(colName,axis=1)\n",
    "        self.test = self.test.drop(colName,axis=1)\n",
    "\n",
    "    def scaler(self,colName):\n",
    "        from sklearn.preprocessing import StandardScaler\n",
    "        std_scale = StandardScaler().fit(self.test[colName])\n",
    "        self.test[colName] = std_scale.transform(self.test[colName])\n",
    "        self.train[colName] = std_scale.transform(self.train[colName])\n",
    "\n",
    "    def decomposition(self):\n",
    "        classSet = list(set(self.train['target']))\n",
    "        self.classDict = { i: [1 if j==i else 0 for j in self.train['target']] for i in classSet}"
   ]
  },
  {
   "cell_type": "code",
   "execution_count": 110,
   "metadata": {
    "collapsed": true
   },
   "outputs": [],
   "source": [
    "# pd.read_csv('bestTrain.csv').columns"
   ]
  },
  {
   "cell_type": "code",
   "execution_count": 111,
   "metadata": {},
   "outputs": [
    {
     "name": "stdout",
     "output_type": "stream",
     "text": [
      "train : (169307, 21)\n",
      "test: (91166, 20)\n"
     ]
    }
   ],
   "source": [
    "data = Data(pd.read_csv('../bestTrain.csv').drop(['connection_id'],1),pd.read_csv('../bestTest.csv').drop(['connection_id'],1))"
   ]
  },
  {
   "cell_type": "code",
   "execution_count": 112,
   "metadata": {
    "collapsed": true
   },
   "outputs": [],
   "source": [
    "class XGBoostClassifier():\n",
    "    def __init__(self, num_boost_round=10, **params):\n",
    "        self.clf = None\n",
    "        self.num_boost_round = num_boost_round\n",
    "        self.params = params\n",
    "        self.params.update({'objective': 'multi:softprob'})\n",
    "\n",
    "    def fit(self, X, y, num_boost_round=None):\n",
    "        num_boost_round = num_boost_round or self.num_boost_round\n",
    "        self.label2num = dict((label, i) for i, label in enumerate(sorted(set(y))))\n",
    "        dtrain = xgb.DMatrix(X, label=[self.label2num[label] for label in y])\n",
    "        self.clf = xgb.train(params=self.params, dtrain=dtrain, num_boost_round=num_boost_round)\n",
    "\n",
    "    def predict(self, X):\n",
    "        num2label = dict((i, label)for label, i in self.label2num.items())\n",
    "        Y = self.predict_proba(X)\n",
    "        y = np.argmax(Y, axis=1)\n",
    "        return np.array([num2label[i] for i in y])\n",
    "\n",
    "    def predict_proba(self, X):\n",
    "        dtest = xgb.DMatrix(X)\n",
    "        return self.clf.predict(dtest)\n",
    "\n",
    "    def score(self, X, y):\n",
    "        Y = self.predict_proba(X)\n",
    "        return 1 / logloss(y, Y)\n",
    "\n",
    "    def get_params(self, deep=True):\n",
    "        return self.params\n",
    "\n",
    "    def set_params(self, **params):\n",
    "        if 'num_boost_round' in params:\n",
    "            self.num_boost_round = params.pop('num_boost_round')\n",
    "        if 'objective' in params:\n",
    "            del params['objective']\n",
    "        self.params.update(params)\n",
    "        return self"
   ]
  },
  {
   "cell_type": "code",
   "execution_count": 113,
   "metadata": {
    "collapsed": true
   },
   "outputs": [],
   "source": [
    "class SklearnHelper(object):\n",
    "    def __init__(self,clf,seed=0,params=None):\n",
    "        params['random_state'] = seed\n",
    "        self.clf = clf(**params)\n",
    "        \n",
    "    def train(self,x_train,y_train):\n",
    "        return self.clf.fit(x_train,y_train)\n",
    "        \n",
    "    def predict(self,x):\n",
    "        return self.clf.predict(x)\n",
    "    \n",
    "    def fit(self,x,y):\n",
    "        return self.clf.fit(x,y)\n",
    "    \n",
    "    def feature_importance(self,x,y):\n",
    "        return self.clf.fit(x,y).feature_importances_"
   ]
  },
  {
   "cell_type": "code",
   "execution_count": 114,
   "metadata": {
    "collapsed": true
   },
   "outputs": [],
   "source": [
    "# data.drop('Unnamed: 0')\n",
    "# train_add2 = data.train[(data.train['target'] == 2)]\n",
    "# print(train_add2.shape)\n",
    "# train_add1 = data.train[(data.train['target'] == 1)]\n",
    "# print(train_add1.shape)\n",
    "# train_add2 = train_add2.append(train_add2.sample(round(0.68*36854)))\n",
    "# print(train_add2.shape)\n",
    "# train_add1 = train_add1.append(train_add1.sample(round(0.94*33585)))\n",
    "# print(train_add1.shape)\n",
    "# data.train = data.train.append(train_add1)\n",
    "# data.train  = data.train.append(train_add2)"
   ]
  },
  {
   "cell_type": "code",
   "execution_count": 115,
   "metadata": {
    "collapsed": true
   },
   "outputs": [],
   "source": [
    "ntest = data.test.shape[0]\n",
    "ntrain = data.train.shape[0]\n",
    "SEED = 167681684\n",
    "NFOLDS = 5\n",
    "kf_tr = KFold(ntrain, n_folds= NFOLDS, random_state=SEED)\n",
    "kf_ts = KFold(ntest, n_folds= NFOLDS, random_state=SEED)\n",
    "def get_oof(clf, x_train, y_train, x_test):\n",
    "    oof_train = np.zeros((ntrain,))\n",
    "    oof_test = np.zeros((ntest,))\n",
    "    for (train_index_tr,test_index_tr),(train_index_ts,test_index_ts) in zip(kf_tr,kf_ts):\n",
    "        x_train_tr = x_train[train_index_tr]\n",
    "        y_train_tr = y_train[train_index_tr]\n",
    "        x_test_tr = x_train[test_index_tr]\n",
    "        x_test_ts = x_test[test_index_ts]\n",
    "        \n",
    "        clf.train(x_train_tr,y_train_tr)\n",
    "        oof_train[test_index_tr] = clf.predict(x_test_tr)\n",
    "        oof_test[test_index_ts] = clf.predict(x_test_ts)\n",
    "        \n",
    "    return oof_train.reshape(-1,1),oof_test.reshape(-1,1)"
   ]
  },
  {
   "cell_type": "code",
   "execution_count": 116,
   "metadata": {
    "collapsed": true
   },
   "outputs": [],
   "source": [
    "ntest = data.test.shape[0]\n",
    "ntrain = data.train.shape[0]\n",
    "SEED = 6734637\n",
    "NFOLDS = 5\n",
    "kf_tr = KFold(ntrain, n_folds= NFOLDS, random_state=SEED)\n",
    "kf_ts = KFold(ntest, n_folds= NFOLDS, random_state=SEED)\n",
    "def get_XGoof(params, x_train, y_train, x_test,num_rounds=None):\n",
    "    oof_train = np.zeros((ntrain,))\n",
    "    oof_test = np.zeros((ntest,))\n",
    "    for (train_index_tr,test_index_tr),(train_index_ts,test_index_ts) in zip(kf_tr,kf_ts):\n",
    "        dtrain = xgb.DMatrix(data=x_train[train_index_tr], label=y_train[train_index_tr])\n",
    "        dte = xgb.DMatrix(data=x_train[test_index_tr])\n",
    "        dtest = xgb.DMatrix(data=x_test[test_index_ts])   \n",
    "        \n",
    "        bst = xgb.train(params,dtrain,num_boost_round=num_rounds)\n",
    "        oof_train[test_index_tr] = bst.predict(dte)\n",
    "        oof_test[test_index_ts] = bst.predict(dtest)\n",
    "        \n",
    "    return oof_train.reshape(-1,1),oof_test.reshape(-1,1)"
   ]
  },
  {
   "cell_type": "markdown",
   "metadata": {},
   "source": [
    "### Balancing the classes"
   ]
  },
  {
   "cell_type": "code",
   "execution_count": 117,
   "metadata": {
    "collapsed": true
   },
   "outputs": [],
   "source": [
    "targetValues = data.train[\"target\"].value_counts().index.values\n",
    "numberOfTarget = data.train[\"target\"].value_counts().values"
   ]
  },
  {
   "cell_type": "code",
   "execution_count": 118,
   "metadata": {},
   "outputs": [
    {
     "data": {
      "text/plain": [
       "array([0, 2, 1], dtype=int64)"
      ]
     },
     "execution_count": 118,
     "metadata": {},
     "output_type": "execute_result"
    }
   ],
   "source": [
    "targetValues"
   ]
  },
  {
   "cell_type": "code",
   "execution_count": 119,
   "metadata": {},
   "outputs": [
    {
     "data": {
      "text/plain": [
       "array([98868, 36854, 33585], dtype=int64)"
      ]
     },
     "execution_count": 119,
     "metadata": {},
     "output_type": "execute_result"
    }
   ],
   "source": [
    "numberOfTarget"
   ]
  },
  {
   "cell_type": "markdown",
   "metadata": {},
   "source": [
    "# Let us stack now\n",
    "### Ready the parameters for ensembles"
   ]
  },
  {
   "cell_type": "code",
   "execution_count": 120,
   "metadata": {
    "collapsed": true
   },
   "outputs": [],
   "source": [
    "# Put in our parameters for said classifiers\n",
    "# Random Forest parameters\n",
    "rf_params = {\n",
    "    'n_jobs': -1,\n",
    "    'n_estimators': 500,\n",
    "#      'warm_start': True, \n",
    "     #'max_features': 0.2,\n",
    "#     'max_depth': 6,\n",
    "    'min_samples_leaf': 50,\n",
    "#     'max_features' : 'sqrt',\n",
    "    'verbose': 0\n",
    "}\n",
    "\n",
    "# Extra Trees Parameters\n",
    "et_params = {\n",
    "    'n_jobs': -1,\n",
    "    'n_estimators':500,\n",
    "    #'max_features': 0.5,\n",
    "#     'max_depth': 8,\n",
    "    'min_samples_leaf': 50,\n",
    "    'verbose': 0\n",
    "}\n",
    "\n",
    "# AdaBoost parameters\n",
    "ada_params = {\n",
    "    'n_estimators': 500,\n",
    "    'learning_rate' : 0.25,\n",
    "}\n",
    "\n",
    "# Gradient Boosting parameters\n",
    "gb_params = {\n",
    "    'n_estimators': 500,\n",
    "     #'max_features': 0.2,\n",
    "    'max_depth': 5,\n",
    "    'min_samples_leaf': 2,\n",
    "    'verbose': 0,\n",
    "}\n",
    "\n",
    "# Support Vector Classifier parameters \n",
    "svc_params = {\n",
    "    'kernel' : 'rbf',\n",
    "    'C' : 0.025,\n",
    "    }"
   ]
  },
  {
   "cell_type": "code",
   "execution_count": 121,
   "metadata": {
    "collapsed": true
   },
   "outputs": [],
   "source": [
    "import xgboost as xgb"
   ]
  },
  {
   "cell_type": "code",
   "execution_count": 122,
   "metadata": {
    "collapsed": true
   },
   "outputs": [],
   "source": [
    "# default parameters\n",
    "params1 = {}\n",
    "params1['objective'] = 'multi:softmax'\n",
    "params1['eta'] = 0.01\n",
    "params1['silent'] = True\n",
    "params1['max_depth'] = 6\n",
    "params1['subsample'] = 0.9\n",
    "params1['colsample_bytree'] = 0.9\n",
    "params1['nthread']=-1\n",
    "params1['num_class']=3\n",
    "\n",
    "# default parameters\n",
    "params2 = {}\n",
    "params2['objective'] = 'multi:softmax'\n",
    "params2['eta'] = 0.0075\n",
    "params2['silent'] = True\n",
    "params2['max_depth'] = 6\n",
    "params2['subsample'] = 0.9\n",
    "params2['colsample_bytree'] = 0.9\n",
    "params2['nthread']=-1\n",
    "params2['num_class']=3\n",
    "\n",
    "# default parameters\n",
    "params3 = {}\n",
    "params3['objective'] = 'multi:softmax'\n",
    "params3['eta'] = 0.01\n",
    "params3['silent'] = True\n",
    "params3['max_depth'] = 7\n",
    "params3['subsample'] = 0.9\n",
    "params3['colsample_bytree'] = 0.9\n",
    "params3['nthread']=-1\n",
    "params3['num_class']=3\n",
    "\n",
    "\n",
    "# default parameters\n",
    "params4=dict(params3)\n",
    "params4['eta']=.0075\n",
    "params4['max_depth']=6\n",
    "\n",
    "params5=dict(params3)\n",
    "params5['eta']=.0075\n",
    "params5['max_depth']=7\n"
   ]
  },
  {
   "cell_type": "code",
   "execution_count": 123,
   "metadata": {
    "collapsed": true
   },
   "outputs": [],
   "source": [
    "rf = SklearnHelper(clf=RandomForestClassifier, seed=SEED, params=rf_params)\n",
    "et = SklearnHelper(clf=ExtraTreesClassifier, seed=SEED, params=et_params)\n",
    "# ada = SklearnHelper(clf=AdaBoostClassifier, seed=SEED, params=ada_params)\n",
    "gb = SklearnHelper(clf=GradientBoostingClassifier, seed=SEED, params=gb_params)\n",
    "# svc = SklearnHelper(clf=SVC, seed=SEED, params=svc_params)"
   ]
  },
  {
   "cell_type": "markdown",
   "metadata": {},
   "source": [
    "# Numpy array for test and train"
   ]
  },
  {
   "cell_type": "code",
   "execution_count": 124,
   "metadata": {
    "collapsed": true
   },
   "outputs": [],
   "source": [
    "y_train = data.train['target'].ravel()\n",
    "train = data.train[data.columns()]\n",
    "x_train = train.values # Creates an array of the train data\n",
    "x_test = data.test[data.columns()].values # Creats an array of the test data"
   ]
  },
  {
   "cell_type": "code",
   "execution_count": 125,
   "metadata": {},
   "outputs": [
    {
     "data": {
      "text/plain": [
       "((169307, 20),\n",
       " Index(['cont_1', 'cont_2', 'cont_3', 'cont_8', 'cont_9', 'cont_10', 'cont_11',\n",
       "        'cont_12', 'cont_13', 'cont_14', 'cat_1', 'cat_2', 'cat_3', 'cat_9',\n",
       "        'cat_20', 'cat_22', 'cat_23', 'cont_17_18_mean', 'cont_15_16_min',\n",
       "        'is_attack_1'],\n",
       "       dtype='object'))"
      ]
     },
     "execution_count": 125,
     "metadata": {},
     "output_type": "execute_result"
    }
   ],
   "source": [
    "x_train.shape,train.columns"
   ]
  },
  {
   "cell_type": "code",
   "execution_count": 126,
   "metadata": {},
   "outputs": [
    {
     "data": {
      "text/plain": [
       "(91166, 20)"
      ]
     },
     "execution_count": 126,
     "metadata": {},
     "output_type": "execute_result"
    }
   ],
   "source": [
    "y_train.shape\n",
    "x_test.shape"
   ]
  },
  {
   "cell_type": "markdown",
   "metadata": {},
   "source": [
    "## First level predection"
   ]
  },
  {
   "cell_type": "code",
   "execution_count": 127,
   "metadata": {},
   "outputs": [
    {
     "name": "stdout",
     "output_type": "stream",
     "text": [
      "completed\n"
     ]
    }
   ],
   "source": [
    "et_oof_train, et_oof_test = get_oof(et, x_train, y_train, x_test) # Extra Trees\n",
    "print('completed')"
   ]
  },
  {
   "cell_type": "code",
   "execution_count": 128,
   "metadata": {
    "collapsed": true
   },
   "outputs": [],
   "source": [
    "pd.DataFrame(et_oof_train).to_csv('../Created Data/Layer 1/et_oof_train.csv',index=False)\n",
    "pd.DataFrame(et_oof_test).to_csv('../Created Data/Layer 1/et_oof_test.csv',index=False)"
   ]
  },
  {
   "cell_type": "code",
   "execution_count": 129,
   "metadata": {},
   "outputs": [
    {
     "name": "stdout",
     "output_type": "stream",
     "text": [
      "completed\n"
     ]
    }
   ],
   "source": [
    "rf_oof_train, rf_oof_test = get_oof(rf,x_train, y_train, x_test) # Random Forest\n",
    "print('completed')"
   ]
  },
  {
   "cell_type": "code",
   "execution_count": 130,
   "metadata": {
    "collapsed": true
   },
   "outputs": [],
   "source": [
    "pd.DataFrame(rf_oof_train).to_csv('../Created Data/Layer 1/rf_oof_train.csv',index=False)\n",
    "pd.DataFrame(rf_oof_test).to_csv('../Created Data/Layer 1/rf_oof_test.csv',index=False)"
   ]
  },
  {
   "cell_type": "code",
   "execution_count": 131,
   "metadata": {},
   "outputs": [
    {
     "name": "stdout",
     "output_type": "stream",
     "text": [
      "Completed\n"
     ]
    }
   ],
   "source": [
    "gb_oof_train, gb_oof_test = get_oof(gb,x_train, y_train, x_test) # Gradient Boost\n",
    "print('Completed')"
   ]
  },
  {
   "cell_type": "code",
   "execution_count": 132,
   "metadata": {
    "collapsed": true
   },
   "outputs": [],
   "source": [
    "pd.DataFrame(gb_oof_train).to_csv('../Created Data/Layer 1/gb_oof_train.csv',index=False)\n",
    "pd.DataFrame(gb_oof_test).to_csv('../Created Data/Layer 1/gb_oof_test.csv',index=False)"
   ]
  },
  {
   "cell_type": "code",
   "execution_count": 133,
   "metadata": {
    "collapsed": true
   },
   "outputs": [],
   "source": [
    "# xg6_oof_train, xg6_oof_test = get_XGoof(params4,x_train,y_train,x_test,num_rounds=2017)\n",
    "# print('Completed')"
   ]
  },
  {
   "cell_type": "code",
   "execution_count": 134,
   "metadata": {
    "collapsed": true
   },
   "outputs": [],
   "source": [
    "# pd.DataFrame(xg5_oof_train).to_csv('../Created Data/xg6_oof_train.csv',index=False)\n",
    "\n",
    "# pd.DataFrame(xg5_oof_test).to_csv('../Created Data/xg6_oof_test.csv',index=False)\n"
   ]
  },
  {
   "cell_type": "code",
   "execution_count": 135,
   "metadata": {
    "collapsed": true
   },
   "outputs": [],
   "source": [
    "xg1_oof_train=pd.read_csv('../Created Data/Layer 1/xg1_oof_train.csv')\n",
    "xg2_oof_train=pd.read_csv('../Created Data/Layer 1/xg2_oof_train.csv')\n",
    "xg3_oof_train=pd.read_csv('../Created Data/Layer 1/xg3_oof_train.csv')\n",
    "xg4_oof_train=pd.read_csv('../Created Data/Layer 1/xg4_oof_train.csv')\n",
    "xg5_oof_train=pd.read_csv('../Created Data/Layer 1/xg5_oof_train.csv')\n",
    "xg6_oof_train=pd.read_csv('../Created Data/Layer 1/xg6_oof_train.csv')\n",
    "et_oof_train=pd.read_csv('../Created Data/Layer 1/et_oof_train.csv')\n",
    "rf_oof_train=pd.read_csv('../Created Data/Layer 1/rf_oof_train.csv')\n",
    "gb_oof_train=pd.read_csv('../Created Data/Layer 1/gb_oof_train.csv')\n",
    "\n",
    "xg1_oof_test=pd.read_csv('../Created Data/Layer 1/xg1_oof_test.csv')\n",
    "xg2_oof_test=pd.read_csv('../Created Data/Layer 1/xg2_oof_test.csv')\n",
    "xg3_oof_test=pd.read_csv('../Created Data/Layer 1/xg3_oof_test.csv')\n",
    "xg4_oof_test=pd.read_csv('../Created Data/Layer 1/xg4_oof_test.csv')\n",
    "xg5_oof_test=pd.read_csv('../Created Data/Layer 1/xg5_oof_test.csv')\n",
    "xg6_oof_test=pd.read_csv('../Created Data/Layer 1/xg6_oof_test.csv')\n",
    "et_oof_test=pd.read_csv('../Created Data/Layer 1/et_oof_test.csv')\n",
    "rf_oof_test=pd.read_csv('../Created Data/Layer 1/rf_oof_test.csv')\n",
    "gb_oof_test=pd.read_csv('../Created Data/Layer 1/gb_oof_test.csv')"
   ]
  },
  {
   "cell_type": "code",
   "execution_count": 136,
   "metadata": {},
   "outputs": [
    {
     "data": {
      "text/plain": [
       "Index(['0'], dtype='object')"
      ]
     },
     "execution_count": 136,
     "metadata": {},
     "output_type": "execute_result"
    }
   ],
   "source": [
    "xg1_oof_train.columns"
   ]
  },
  {
   "cell_type": "code",
   "execution_count": 137,
   "metadata": {},
   "outputs": [
    {
     "data": {
      "text/html": [
       "<div>\n",
       "<style>\n",
       "    .dataframe thead tr:only-child th {\n",
       "        text-align: right;\n",
       "    }\n",
       "\n",
       "    .dataframe thead th {\n",
       "        text-align: left;\n",
       "    }\n",
       "\n",
       "    .dataframe tbody tr th {\n",
       "        vertical-align: top;\n",
       "    }\n",
       "</style>\n",
       "<table border=\"1\" class=\"dataframe\">\n",
       "  <thead>\n",
       "    <tr style=\"text-align: right;\">\n",
       "      <th></th>\n",
       "      <th>ET</th>\n",
       "      <th>GB</th>\n",
       "      <th>RF</th>\n",
       "      <th>XGB1</th>\n",
       "      <th>XGB2</th>\n",
       "      <th>XGB3</th>\n",
       "      <th>XGB4</th>\n",
       "      <th>XGB5</th>\n",
       "      <th>XGB6</th>\n",
       "    </tr>\n",
       "  </thead>\n",
       "  <tbody>\n",
       "    <tr>\n",
       "      <th>0</th>\n",
       "      <td>0.0</td>\n",
       "      <td>0.0</td>\n",
       "      <td>0.0</td>\n",
       "      <td>0.0</td>\n",
       "      <td>0.0</td>\n",
       "      <td>0.0</td>\n",
       "      <td>0.0</td>\n",
       "      <td>0.0</td>\n",
       "      <td>0.0</td>\n",
       "    </tr>\n",
       "    <tr>\n",
       "      <th>1</th>\n",
       "      <td>0.0</td>\n",
       "      <td>0.0</td>\n",
       "      <td>0.0</td>\n",
       "      <td>0.0</td>\n",
       "      <td>0.0</td>\n",
       "      <td>0.0</td>\n",
       "      <td>0.0</td>\n",
       "      <td>0.0</td>\n",
       "      <td>0.0</td>\n",
       "    </tr>\n",
       "    <tr>\n",
       "      <th>2</th>\n",
       "      <td>0.0</td>\n",
       "      <td>0.0</td>\n",
       "      <td>0.0</td>\n",
       "      <td>0.0</td>\n",
       "      <td>0.0</td>\n",
       "      <td>0.0</td>\n",
       "      <td>0.0</td>\n",
       "      <td>0.0</td>\n",
       "      <td>0.0</td>\n",
       "    </tr>\n",
       "    <tr>\n",
       "      <th>3</th>\n",
       "      <td>0.0</td>\n",
       "      <td>0.0</td>\n",
       "      <td>0.0</td>\n",
       "      <td>0.0</td>\n",
       "      <td>0.0</td>\n",
       "      <td>0.0</td>\n",
       "      <td>0.0</td>\n",
       "      <td>0.0</td>\n",
       "      <td>0.0</td>\n",
       "    </tr>\n",
       "    <tr>\n",
       "      <th>4</th>\n",
       "      <td>0.0</td>\n",
       "      <td>0.0</td>\n",
       "      <td>0.0</td>\n",
       "      <td>0.0</td>\n",
       "      <td>0.0</td>\n",
       "      <td>0.0</td>\n",
       "      <td>0.0</td>\n",
       "      <td>0.0</td>\n",
       "      <td>0.0</td>\n",
       "    </tr>\n",
       "  </tbody>\n",
       "</table>\n",
       "</div>"
      ],
      "text/plain": [
       "    ET   GB   RF  XGB1  XGB2  XGB3  XGB4  XGB5  XGB6\n",
       "0  0.0  0.0  0.0   0.0   0.0   0.0   0.0   0.0   0.0\n",
       "1  0.0  0.0  0.0   0.0   0.0   0.0   0.0   0.0   0.0\n",
       "2  0.0  0.0  0.0   0.0   0.0   0.0   0.0   0.0   0.0\n",
       "3  0.0  0.0  0.0   0.0   0.0   0.0   0.0   0.0   0.0\n",
       "4  0.0  0.0  0.0   0.0   0.0   0.0   0.0   0.0   0.0"
      ]
     },
     "execution_count": 137,
     "metadata": {},
     "output_type": "execute_result"
    }
   ],
   "source": [
    "base_predictions_train = pd.DataFrame( {'XGB1': xg1_oof_train['0'].values.ravel(),\n",
    "     'XGB2': xg2_oof_train['0'].values.ravel(),\n",
    "     'XGB3': xg3_oof_train['0'].values.ravel(),'XGB4': xg4_oof_train['0'].values.ravel(),\n",
    "                                        'XGB5': xg5_oof_train['0'].values.ravel(),\n",
    "                                       'XGB6': xg6_oof_train['0'].values.ravel(),\n",
    "                                       'ET': et_oof_train['0'].values.ravel()\n",
    "                                       ,'RF': rf_oof_train['0'].values.ravel(),\n",
    "                                       'GB': gb_oof_train['0'].values.ravel()})\n",
    "base_predictions_train.head()"
   ]
  },
  {
   "cell_type": "code",
   "execution_count": 138,
   "metadata": {},
   "outputs": [
    {
     "data": {
      "text/plain": [
       "(91166, 1)"
      ]
     },
     "execution_count": 138,
     "metadata": {},
     "output_type": "execute_result"
    }
   ],
   "source": [
    "xg1_oof_test.shape"
   ]
  },
  {
   "cell_type": "code",
   "execution_count": 139,
   "metadata": {},
   "outputs": [
    {
     "data": {
      "text/html": [
       "<div>\n",
       "<style>\n",
       "    .dataframe thead tr:only-child th {\n",
       "        text-align: right;\n",
       "    }\n",
       "\n",
       "    .dataframe thead th {\n",
       "        text-align: left;\n",
       "    }\n",
       "\n",
       "    .dataframe tbody tr th {\n",
       "        vertical-align: top;\n",
       "    }\n",
       "</style>\n",
       "<table border=\"1\" class=\"dataframe\">\n",
       "  <thead>\n",
       "    <tr style=\"text-align: right;\">\n",
       "      <th></th>\n",
       "      <th>ET</th>\n",
       "      <th>GB</th>\n",
       "      <th>RF</th>\n",
       "      <th>XGB1</th>\n",
       "      <th>XGB2</th>\n",
       "      <th>XGB3</th>\n",
       "      <th>XGB4</th>\n",
       "      <th>XGB5</th>\n",
       "      <th>XGB6</th>\n",
       "    </tr>\n",
       "  </thead>\n",
       "  <tbody>\n",
       "    <tr>\n",
       "      <th>0</th>\n",
       "      <td>1.0</td>\n",
       "      <td>1.0</td>\n",
       "      <td>1.0</td>\n",
       "      <td>1.0</td>\n",
       "      <td>1.0</td>\n",
       "      <td>1.0</td>\n",
       "      <td>1.0</td>\n",
       "      <td>1.0</td>\n",
       "      <td>1.0</td>\n",
       "    </tr>\n",
       "    <tr>\n",
       "      <th>1</th>\n",
       "      <td>0.0</td>\n",
       "      <td>0.0</td>\n",
       "      <td>0.0</td>\n",
       "      <td>0.0</td>\n",
       "      <td>0.0</td>\n",
       "      <td>0.0</td>\n",
       "      <td>0.0</td>\n",
       "      <td>0.0</td>\n",
       "      <td>0.0</td>\n",
       "    </tr>\n",
       "    <tr>\n",
       "      <th>2</th>\n",
       "      <td>0.0</td>\n",
       "      <td>0.0</td>\n",
       "      <td>0.0</td>\n",
       "      <td>0.0</td>\n",
       "      <td>0.0</td>\n",
       "      <td>0.0</td>\n",
       "      <td>0.0</td>\n",
       "      <td>0.0</td>\n",
       "      <td>0.0</td>\n",
       "    </tr>\n",
       "    <tr>\n",
       "      <th>3</th>\n",
       "      <td>0.0</td>\n",
       "      <td>0.0</td>\n",
       "      <td>0.0</td>\n",
       "      <td>0.0</td>\n",
       "      <td>0.0</td>\n",
       "      <td>0.0</td>\n",
       "      <td>0.0</td>\n",
       "      <td>0.0</td>\n",
       "      <td>0.0</td>\n",
       "    </tr>\n",
       "    <tr>\n",
       "      <th>4</th>\n",
       "      <td>0.0</td>\n",
       "      <td>0.0</td>\n",
       "      <td>0.0</td>\n",
       "      <td>0.0</td>\n",
       "      <td>0.0</td>\n",
       "      <td>0.0</td>\n",
       "      <td>0.0</td>\n",
       "      <td>0.0</td>\n",
       "      <td>0.0</td>\n",
       "    </tr>\n",
       "  </tbody>\n",
       "</table>\n",
       "</div>"
      ],
      "text/plain": [
       "    ET   GB   RF  XGB1  XGB2  XGB3  XGB4  XGB5  XGB6\n",
       "0  1.0  1.0  1.0   1.0   1.0   1.0   1.0   1.0   1.0\n",
       "1  0.0  0.0  0.0   0.0   0.0   0.0   0.0   0.0   0.0\n",
       "2  0.0  0.0  0.0   0.0   0.0   0.0   0.0   0.0   0.0\n",
       "3  0.0  0.0  0.0   0.0   0.0   0.0   0.0   0.0   0.0\n",
       "4  0.0  0.0  0.0   0.0   0.0   0.0   0.0   0.0   0.0"
      ]
     },
     "execution_count": 139,
     "metadata": {},
     "output_type": "execute_result"
    }
   ],
   "source": [
    "base_predictions_test = pd.DataFrame( {'XGB1': xg1_oof_test['0'].values.ravel(),\n",
    "     'XGB2': xg2_oof_test['0'].values.ravel(),\n",
    "     'XGB3': xg3_oof_test['0'].values.ravel(),'XGB4': xg4_oof_test['0'].values.ravel(),\n",
    "                                        'XGB5': xg5_oof_test['0'].values.ravel(),\n",
    "                                       'XGB6': xg6_oof_test['0'].values.ravel(),\n",
    "                                      'ET': et_oof_test['0'].values.ravel(),\n",
    "                                      'RF': rf_oof_test['0'].values.ravel(),\n",
    "                                      'GB': gb_oof_test['0'].values.ravel()})\n",
    "base_predictions_test.head()"
   ]
  },
  {
   "cell_type": "code",
   "execution_count": 142,
   "metadata": {},
   "outputs": [
    {
     "data": {
      "text/plain": [
       "0.0    72856\n",
       "1.0    18310\n",
       "Name: RF, dtype: int64"
      ]
     },
     "execution_count": 142,
     "metadata": {},
     "output_type": "execute_result"
    }
   ],
   "source": [
    "base_predictions_test['RF'].value_counts()"
   ]
  },
  {
   "cell_type": "code",
   "execution_count": 145,
   "metadata": {},
   "outputs": [
    {
     "data": {
      "text/plain": [
       "0.0    134664\n",
       "1.0     33821\n",
       "2.0       822\n",
       "Name: GB, dtype: int64"
      ]
     },
     "execution_count": 145,
     "metadata": {},
     "output_type": "execute_result"
    }
   ],
   "source": [
    "base_predictions_train['GB'].value_counts()"
   ]
  },
  {
   "cell_type": "markdown",
   "metadata": {},
   "source": [
    "# Lets see the correlation of new features generated"
   ]
  },
  {
   "cell_type": "code",
   "execution_count": 146,
   "metadata": {
    "collapsed": true
   },
   "outputs": [],
   "source": [
    "def plotHeatMap(df, size=(16,9),an=True):\n",
    "    plt.figure(figsize=size)\n",
    "    cmap = plt.cm.viridis\n",
    "    sns.heatmap(df.corr(),cmap=cmap,linewidths=0.1,vmax=1, linecolor=\"white\", square=True,annot=an)\n",
    "    plt.show()"
   ]
  },
  {
   "cell_type": "code",
   "execution_count": 147,
   "metadata": {},
   "outputs": [
    {
     "data": {
      "image/png": "[encoded data removed]",
      "text/plain": [
       "<matplotlib.figure.Figure at 0x2359999d198>"
      ]
     },
     "metadata": {},
     "output_type": "display_data"
    }
   ],
   "source": [
    "plotHeatMap(base_predictions_train)"
   ]
  },
  {
   "cell_type": "code",
   "execution_count": 23,
   "metadata": {
    "collapsed": true
   },
   "outputs": [],
   "source": [
    "# tsne=pd.read_csv('../tsne_all_data.csv').values"
   ]
  },
  {
   "cell_type": "code",
   "execution_count": 24,
   "metadata": {
    "collapsed": true
   },
   "outputs": [],
   "source": [
    "# tsne_tr,tsne_ts=tsne[:len(x_train)],tsne[len(x_train):]"
   ]
  },
  {
   "cell_type": "code",
   "execution_count": 28,
   "metadata": {},
   "outputs": [
    {
     "data": {
      "text/plain": [
       "(169307, 2)"
      ]
     },
     "execution_count": 28,
     "metadata": {},
     "output_type": "execute_result"
    }
   ],
   "source": [
    "# tsne_tr.shape"
   ]
  },
  {
   "cell_type": "code",
   "execution_count": 148,
   "metadata": {
    "collapsed": true
   },
   "outputs": [],
   "source": [
    "x_train = np.concatenate(( xg1_oof_train, xg2_oof_train, xg3_oof_train, xg4_oof_train,xg5_oof_train,et_oof_train,rf_oof_train,gb_oof_train), axis=1)\n",
    "x_test = np.concatenate(( xg1_oof_test, xg2_oof_test, xg3_oof_test, xg4_oof_test,xg5_oof_test,et_oof_test,rf_oof_test,gb_oof_test), axis=1)"
   ]
  },
  {
   "cell_type": "markdown",
   "metadata": {},
   "source": [
    "# Ok pal  :) , now its time to start 3 layer Stacking"
   ]
  },
  {
   "cell_type": "code",
   "execution_count": null,
   "metadata": {
    "collapsed": true
   },
   "outputs": [],
   "source": []
  },
  {
   "cell_type": "code",
   "execution_count": null,
   "metadata": {
    "collapsed": true
   },
   "outputs": [],
   "source": []
  },
  {
   "cell_type": "code",
   "execution_count": 1,
   "metadata": {},
   "outputs": [
    {
     "ename": "NameError",
     "evalue": "name 'data' is not defined",
     "output_type": "error",
     "traceback": [
      "\u001b[0;31m---------------------------------------------------------------------------\u001b[0m",
      "\u001b[0;31mNameError\u001b[0m                                 Traceback (most recent call last)",
      "\u001b[0;32m<ipython-input-1-b58bc19b7a01>\u001b[0m in \u001b[0;36m<module>\u001b[0;34m()\u001b[0m\n\u001b[0;32m----> 1\u001b[0;31m \u001b[0mdata\u001b[0m\u001b[0;34m.\u001b[0m\u001b[0mtrain\u001b[0m\u001b[0;34m.\u001b[0m\u001b[0mcolumns\u001b[0m\u001b[0;34m(\u001b[0m\u001b[0;34m)\u001b[0m\u001b[0;34m\u001b[0m\u001b[0m\n\u001b[0m",
      "\u001b[0;31mNameError\u001b[0m: name 'data' is not defined"
     ]
    }
   ],
   "source": [
    "data.train.columns()"
   ]
  },
  {
   "cell_type": "code",
   "execution_count": null,
   "metadata": {
    "collapsed": true
   },
   "outputs": [],
   "source": []
  },
  {
   "cell_type": "code",
   "execution_count": null,
   "metadata": {
    "collapsed": true
   },
   "outputs": [],
   "source": []
  },
  {
   "cell_type": "code",
   "execution_count": 149,
   "metadata": {
    "collapsed": true
   },
   "outputs": [],
   "source": [
    "import xgboost as xgb"
   ]
  },
  {
   "cell_type": "code",
   "execution_count": 152,
   "metadata": {
    "collapsed": true
   },
   "outputs": [],
   "source": [
    "params = {}\n",
    "params['objective'] = 'multi:softmax'\n",
    "params['eta'] = 0.0075\n",
    "params['silent'] = True\n",
    "params['max_depth'] = 6\n",
    "params['subsample'] = 0.9\n",
    "params['colsample_bytree'] = 0.9\n",
    "params['nthread']=-1\n",
    "params['num_class']=3"
   ]
  },
  {
   "cell_type": "code",
   "execution_count": 153,
   "metadata": {
    "collapsed": true
   },
   "outputs": [],
   "source": [
    "dtrain = xgb.DMatrix(data=x_train, label=y_train)\n",
    "dtest = xgb.DMatrix(data=x_test)"
   ]
  },
  {
   "cell_type": "code",
   "execution_count": 154,
   "metadata": {
    "collapsed": true
   },
   "outputs": [],
   "source": [
    "clf1_2 = xgb.train(params, dtrain, 874,maximize=True)"
   ]
  },
  {
   "cell_type": "code",
   "execution_count": 155,
   "metadata": {
    "collapsed": true
   },
   "outputs": [],
   "source": [
    "pred = clf1_2.predict(dtest)"
   ]
  },
  {
   "cell_type": "code",
   "execution_count": 156,
   "metadata": {},
   "outputs": [
    {
     "name": "stdout",
     "output_type": "stream",
     "text": [
      "Completed\n"
     ]
    }
   ],
   "source": [
    "print('Completed')"
   ]
  },
  {
   "cell_type": "code",
   "execution_count": 157,
   "metadata": {},
   "outputs": [
    {
     "data": {
      "text/plain": [
       "(91166,)"
      ]
     },
     "execution_count": 157,
     "metadata": {},
     "output_type": "execute_result"
    }
   ],
   "source": [
    "pred.shape"
   ]
  },
  {
   "cell_type": "code",
   "execution_count": 158,
   "metadata": {
    "collapsed": true
   },
   "outputs": [],
   "source": [
    "sub = pd.read_csv('../test_data.csv')\n",
    "sub['target'] = pred\n",
    "sub['target'] = sub['target'].astype(int)\n",
    "sub[['connection_id','target']].to_csv('../Submissions/FirstOwnStack5.csv', index=False)"
   ]
  },
  {
   "cell_type": "code",
   "execution_count": 116,
   "metadata": {
    "collapsed": true
   },
   "outputs": [],
   "source": [
    "import pickle\n",
    "pickle.dump(clf1_2,open('stacked_clf_xgb_meta2.sav','wb'))"
   ]
  },
  {
   "cell_type": "code",
   "execution_count": 117,
   "metadata": {},
   "outputs": [
    {
     "data": {
      "text/plain": [
       "array([ 1.,  0.,  0., ...,  0.,  0.,  1.], dtype=float32)"
      ]
     },
     "execution_count": 117,
     "metadata": {},
     "output_type": "execute_result"
    }
   ],
   "source": [
    "pred"
   ]
  }
 ],
 "metadata": {
  "kernelspec": {
   "display_name": "Python 3",
   "language": "python",
   "name": "python3"
  },
  "language_info": {
   "codemirror_mode": {
    "name": "ipython",
    "version": 3
   },
   "file_extension": ".py",
   "mimetype": "text/x-python",
   "name": "python",
   "nbconvert_exporter": "python",
   "pygments_lexer": "ipython3",
   "version": "3.6.3"
  }
 },
 "nbformat": 4,
 "nbformat_minor": 2
}
