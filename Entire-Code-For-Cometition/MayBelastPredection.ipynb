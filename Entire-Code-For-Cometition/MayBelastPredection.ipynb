{
 "cells": [
  {
   "cell_type": "code",
   "execution_count": 1,
   "metadata": {
    "collapsed": true
   },
   "outputs": [],
   "source": [
    "import numpy as np\n",
    "import pandas as pd\n"
   ]
  },
  {
   "cell_type": "code",
   "execution_count": 2,
   "metadata": {
    "collapsed": true
   },
   "outputs": [],
   "source": [
    "dropColumns = ['cat_' + str(i) for i in range(4,9)] + ['cat_' + str(i) for i in range(10,20)]\n",
    "import numpy as np\n",
    "import matplotlib.pyplot as plt\n",
    "import seaborn as sns\n",
    "import pandas as pd\n",
    "\n",
    "\n",
    "class Visualization:\n",
    "\n",
    "    def distView(data,size=(9,8),bin=100):\n",
    "        plt.figure(figsize=(9,8))\n",
    "        return sns.distplot(data, bins=bin, hist_kws={'alpha': 0.4})\n",
    "\n",
    "class Data(Visualization):\n",
    "    def __init__(self,train,test):\n",
    "        self.test = test\n",
    "        self.train = train\n",
    "        print('train : ' + str(self.train.shape))\n",
    "        print('test: ' + str(self.test.shape))\n",
    "        \n",
    "    def describe(self,test=False):\n",
    "        if test:\n",
    "            return self.train.describe(), self.test.describe()\n",
    "        return self.train.describe()\n",
    "    \n",
    "    def columns(self):\n",
    "        return [i for i in self.test.columns if i not in ['connection_id','target']]\n",
    "    \n",
    "    def getCustom(self,substring):\n",
    "        return [i for i in self.columns() if substring in i]\n",
    "\n",
    "    def drop(self,colName):\n",
    "        self.train = self.train.drop(colName,axis=1)\n",
    "        self.test = self.test.drop(colName,axis=1)\n",
    "\n",
    "    def scaler(self,colName):\n",
    "        from sklearn.preprocessing import StandardScaler\n",
    "        std_scale = StandardScaler().fit(self.test[colName])\n",
    "        self.test[colName] = std_scale.transform(self.test[colName])\n",
    "        self.train[colName] = std_scale.transform(self.train[colName])\n",
    "\n",
    "    def decomposition(self):\n",
    "        classSet = list(set(self.train['target']))\n",
    "        self.classDict = { i: [1 if j==i else 0 for j in self.train['target']] for i in classSet}\n",
    "# class Stacker(object):\n",
    "\n",
    "#     def d"
   ]
  },
  {
   "cell_type": "code",
   "execution_count": 5,
   "metadata": {},
   "outputs": [
    {
     "name": "stdout",
     "output_type": "stream",
     "text": [
      "train : (169307, 20)\n",
      "test: (91166, 19)\n"
     ]
    }
   ],
   "source": [
    "data = Data(pd.read_csv('../Data/processedTrain.csv'),pd.read_csv('../Data/processedTest.csv'))"
   ]
  },
  {
   "cell_type": "code",
   "execution_count": 6,
   "metadata": {},
   "outputs": [
    {
     "data": {
      "text/plain": [
       "(91166, 19)"
      ]
     },
     "execution_count": 6,
     "metadata": {},
     "output_type": "execute_result"
    }
   ],
   "source": [
    "data.train.shape\n",
    "data.test.shape"
   ]
  },
  {
   "cell_type": "markdown",
   "metadata": {},
   "source": [
    "## Contained in the 27 feature"
   ]
  },
  {
   "cell_type": "code",
   "execution_count": 7,
   "metadata": {
    "collapsed": true
   },
   "outputs": [],
   "source": [
    "from sklearn import model_selection\n",
    "from sklearn.ensemble import RandomForestClassifier\n",
    "from sklearn.ensemble import ExtraTreesClassifier\n",
    "from sklearn.ensemble import GradientBoostingClassifier\n",
    "from sklearn.ensemble import AdaBoostClassifier\n",
    "from sklearn.linear_model import LogisticRegression\n",
    "from sklearn.linear_model import Perceptron"
   ]
  },
  {
   "cell_type": "markdown",
   "metadata": {},
   "source": [
    "# Random Forest Classifier"
   ]
  },
  {
   "cell_type": "code",
   "execution_count": 10,
   "metadata": {
    "collapsed": true
   },
   "outputs": [],
   "source": [
    "kfolds = model_selection.KFold(n_splits=10,random_state=201920)"
   ]
  },
  {
   "cell_type": "code",
   "execution_count": 8,
   "metadata": {
    "collapsed": true
   },
   "outputs": [],
   "source": [
    "rfc1 = RandomForestClassifier(n_estimators=400,max_depth=20,n_jobs=-1)"
   ]
  },
  {
   "cell_type": "code",
   "execution_count": 12,
   "metadata": {},
   "outputs": [],
   "source": [
    "result = model_selection.cross_val_score(rfc1,data.train[data.columns()],data.train['target'],cv=kfolds)"
   ]
  },
  {
   "cell_type": "code",
   "execution_count": 13,
   "metadata": {},
   "outputs": [
    {
     "name": "stdout",
     "output_type": "stream",
     "text": [
      "[ 0.73681413  0.77632745  0.77804028  0.77679995  0.78016656  0.78193846\n",
      "  0.78796291  0.78871825  0.77471943  0.74861193]\n"
     ]
    }
   ],
   "source": [
    "print(result)"
   ]
  },
  {
   "cell_type": "code",
   "execution_count": 14,
   "metadata": {},
   "outputs": [
    {
     "data": {
      "text/plain": [
       "0.77300993473283364"
      ]
     },
     "execution_count": 14,
     "metadata": {},
     "output_type": "execute_result"
    }
   ],
   "source": [
    "result.mean()"
   ]
  },
  {
   "cell_type": "code",
   "execution_count": 15,
   "metadata": {
    "collapsed": true
   },
   "outputs": [],
   "source": [
    "rfc2 = RandomForestClassifier(n_estimators=600,max_depth=20,n_jobs=-1)\n",
    "result2 = model_selection.cross_val_score(rfc2,data.train[data.columns()],data.train['target'],cv=kfolds)"
   ]
  },
  {
   "cell_type": "code",
   "execution_count": 16,
   "metadata": {},
   "outputs": [
    {
     "name": "stdout",
     "output_type": "stream",
     "text": [
      "[ 0.73262064  0.77626838  0.77809934  0.77685902  0.78040281  0.78182033\n",
      "  0.78784478  0.78865918  0.77466037  0.74754873]\n",
      "0.772478358445\n"
     ]
    }
   ],
   "source": [
    "print(result2)\n",
    "print(result2.mean())"
   ]
  },
  {
   "cell_type": "code",
   "execution_count": 18,
   "metadata": {},
   "outputs": [
    {
     "name": "stdout",
     "output_type": "stream",
     "text": [
      "0.772620118285\n",
      "0.772620118285\n"
     ]
    }
   ],
   "source": [
    "rfc3 = RandomForestClassifier(n_estimators=800,max_depth=20,n_jobs=-1)\n",
    "result3 = model_selection.cross_val_score(rfc3,data.train[data.columns()],data.train['target'],cv=kfolds)\n",
    "print(result3.mean())\n",
    "print(result3.mean())"
   ]
  },
  {
   "cell_type": "markdown",
   "metadata": {},
   "source": [
    "# Logistic Regression"
   ]
  },
  {
   "cell_type": "code",
   "execution_count": null,
   "metadata": {
    "collapsed": true
   },
   "outputs": [],
   "source": [
    "lg1 = LogisticRegressionisticRegression()"
   ]
  },
  {
   "cell_type": "code",
   "execution_count": null,
   "metadata": {
    "collapsed": true
   },
   "outputs": [],
   "source": [
    "*"
   ]
  },
  {
   "cell_type": "code",
   "execution_count": null,
   "metadata": {
    "collapsed": true
   },
   "outputs": [],
   "source": []
  }
 ],
 "metadata": {
  "kernelspec": {
   "display_name": "Python 3",
   "language": "python",
   "name": "python3"
  },
  "language_info": {
   "codemirror_mode": {
    "name": "ipython",
    "version": 3
   },
   "file_extension": ".py",
   "mimetype": "text/x-python",
   "name": "python",
   "nbconvert_exporter": "python",
   "pygments_lexer": "ipython3",
   "version": "3.6.3"
  }
 },
 "nbformat": 4,
 "nbformat_minor": 2
}
