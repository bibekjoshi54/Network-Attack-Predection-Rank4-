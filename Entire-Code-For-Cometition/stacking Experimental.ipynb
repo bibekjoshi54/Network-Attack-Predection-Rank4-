{
 "cells": [
  {
   "cell_type": "code",
   "execution_count": 10,
   "metadata": {
    "collapsed": true
   },
   "outputs": [],
   "source": [
    "import pandas as pd\n",
    "import numpy as np\n",
    "import sklearn\n",
    "import seaborn as sns\n",
    "import matplotlib.pyplot as plt\n",
    "from sklearn.ensemble import RandomForestClassifier, AdaBoostClassifier, GradientBoostingClassifier, ExtraTreesClassifier\n",
    "from sklearn.svm import SVC\n",
    "from sklearn.cross_validation import KFold\n",
    "\n",
    "class Data():\n",
    "    def __init__(self,train,test):\n",
    "        self.test = test\n",
    "        self.train = train\n",
    "        print('train : ' + str(self.train.shape))\n",
    "        print('test: ' + str(self.test.shape))\n",
    "        \n",
    "    def describe(self,test=False):\n",
    "        if test:\n",
    "            return self.train.describe(), self.test.describe()\n",
    "        return self.train.describe()\n",
    "    \n",
    "    def columns(self):\n",
    "        return [i for i in self.test.columns if i not in ['connection_id','target']]\n",
    "    \n",
    "    def getCustom(self,substring):\n",
    "        return [i for i in self.columns() if substring in i]\n",
    "\n",
    "    def drop(self,colName):\n",
    "        self.train = self.train.drop(colName,axis=1)\n",
    "        self.test = self.test.drop(colName,axis=1)\n",
    "\n",
    "    def scaler(self,colName):\n",
    "        from sklearn.preprocessing import StandardScaler\n",
    "        std_scale = StandardScaler().fit(self.test[colName])\n",
    "        self.test[colName] = std_scale.transform(self.test[colName])\n",
    "        self.train[colName] = std_scale.transform(self.train[colName])\n",
    "\n",
    "    def decomposition(self):\n",
    "        classSet = list(set(self.train['target']))\n",
    "        self.classDict = { i: [1 if j==i else 0 for j in self.train['target']] for i in classSet}"
   ]
  },
  {
   "cell_type": "code",
   "execution_count": 11,
   "metadata": {
    "collapsed": true
   },
   "outputs": [],
   "source": [
    "# pd.read_csv('bestTrain.csv').columns"
   ]
  },
  {
   "cell_type": "code",
   "execution_count": 12,
   "metadata": {},
   "outputs": [
    {
     "name": "stdout",
     "output_type": "stream",
     "text": [
      "train : (169307, 21)\n",
      "test: (91166, 20)\n"
     ]
    }
   ],
   "source": [
    "data = Data(pd.read_csv('bestTrain.csv').drop(['connection_id'],1),pd.read_csv('bestTest.csv').drop(['connection_id'],1))"
   ]
  },
  {
   "cell_type": "code",
   "execution_count": 13,
   "metadata": {
    "collapsed": true
   },
   "outputs": [],
   "source": [
    "class XGBoostClassifier():\n",
    "    def __init__(self, num_boost_round=10, **params):\n",
    "        self.clf = None\n",
    "        self.num_boost_round = num_boost_round\n",
    "        self.params = params\n",
    "        self.params.update({'objective': 'multi:softprob'})\n",
    "\n",
    "    def fit(self, X, y, num_boost_round=None):\n",
    "        num_boost_round = num_boost_round or self.num_boost_round\n",
    "        self.label2num = dict((label, i) for i, label in enumerate(sorted(set(y))))\n",
    "        dtrain = xgb.DMatrix(X, label=[self.label2num[label] for label in y])\n",
    "        self.clf = xgb.train(params=self.params, dtrain=dtrain, num_boost_round=num_boost_round)\n",
    "\n",
    "    def predict(self, X):\n",
    "        num2label = dict((i, label)for label, i in self.label2num.items())\n",
    "        Y = self.predict_proba(X)\n",
    "        y = np.argmax(Y, axis=1)\n",
    "        return np.array([num2label[i] for i in y])\n",
    "\n",
    "    def predict_proba(self, X):\n",
    "        dtest = xgb.DMatrix(X)\n",
    "        return self.clf.predict(dtest)\n",
    "\n",
    "    def score(self, X, y):\n",
    "        Y = self.predict_proba(X)\n",
    "        return 1 / logloss(y, Y)\n",
    "\n",
    "    def get_params(self, deep=True):\n",
    "        return self.params\n",
    "\n",
    "    def set_params(self, **params):\n",
    "        if 'num_boost_round' in params:\n",
    "            self.num_boost_round = params.pop('num_boost_round')\n",
    "        if 'objective' in params:\n",
    "            del params['objective']\n",
    "        self.params.update(params)\n",
    "        return self"
   ]
  },
  {
   "cell_type": "code",
   "execution_count": 14,
   "metadata": {
    "collapsed": true
   },
   "outputs": [],
   "source": [
    "class SklearnHelper(object):\n",
    "    def __init__(self,clf,seed=0,params=None):\n",
    "        params['random_state'] = seed\n",
    "        self.clf = clf(**params)\n",
    "        \n",
    "    def train(self,x_train,y_train):\n",
    "        return self.clf.fit(x_train,y_train)\n",
    "        \n",
    "    def predict(self,x):\n",
    "        return self.clf.predict(x)\n",
    "    \n",
    "    def fit(self,x,y):\n",
    "        return self.clf.fit(x,y)\n",
    "    \n",
    "    def feature_importance(self,x,y):\n",
    "        return self.clf.fit(x,y).feature_importances_"
   ]
  },
  {
   "cell_type": "code",
   "execution_count": 15,
   "metadata": {
    "collapsed": true
   },
   "outputs": [],
   "source": [
    "# data.drop('Unnamed: 0')\n",
    "# train_add2 = data.train[(data.train['target'] == 2)]\n",
    "# print(train_add2.shape)\n",
    "# train_add1 = data.train[(data.train['target'] == 1)]\n",
    "# print(train_add1.shape)\n",
    "# train_add2 = train_add2.append(train_add2.sample(round(0.68*36854)))\n",
    "# print(train_add2.shape)\n",
    "# train_add1 = train_add1.append(train_add1.sample(round(0.94*33585)))\n",
    "# print(train_add1.shape)\n",
    "# data.train = data.train.append(train_add1)\n",
    "# data.train  = data.train.append(train_add2)"
   ]
  },
  {
   "cell_type": "code",
   "execution_count": 16,
   "metadata": {
    "collapsed": true
   },
   "outputs": [],
   "source": [
    "# ntest = data.test.shape[0]\n",
    "# ntrain = data.train.shape[0]\n",
    "# SEED = 0\n",
    "# NFOLDS = 5\n",
    "# kf = KFold(ntrain, n_folds= NFOLDS, random_state=SEED)\n",
    "# def get_oof(clf, x_train, y_train, x_test):\n",
    "#     oof_train = np.zeros((ntrain,))\n",
    "#     oof_test = np.zeros((ntest,))\n",
    "#     oof_test_skf = np.empty((NFOLDS,ntest))\n",
    "#     for i,(train_index,test_index) in enumerate(kf):\n",
    "#         x_tr = x_train[train_index]\n",
    "#         y_tr = y_train[train_index]\n",
    "#         x_te = x_train[test_index]\n",
    "        \n",
    "#         clf.train(x_tr,y_tr)\n",
    "#         oof_train[test_index] = clf.predict(x_te)\n",
    "#         oof_test_skf[i, :] = clf.predict(x_test)\n",
    "        \n",
    "#     oof_test[:] = oof_test_skf.mean(axis=0)\n",
    "#     return oof_train.reshape(-1,1),oof_test.reshape(-1,1)"
   ]
  },
  {
   "cell_type": "code",
   "execution_count": 17,
   "metadata": {
    "collapsed": true
   },
   "outputs": [],
   "source": [
    "ntest = data.test.shape[0]\n",
    "ntrain = data.train.shape[0]\n",
    "SEED = 6734637\n",
    "NFOLDS = 5\n",
    "kf_tr = KFold(ntrain, n_folds= NFOLDS, random_state=SEED)\n",
    "kf_ts = KFold(ntest, n_folds= NFOLDS, random_state=SEED)\n",
    "def get_XGoof(params, x_train, y_train, x_test,num_rounds=None):\n",
    "    oof_train = np.zeros((ntrain,))\n",
    "    oof_test = np.zeros((ntest,))\n",
    "    for (train_index_tr,test_index_tr),(train_index_ts,test_index_ts) in zip(kf_tr,kf_ts):\n",
    "        dtrain = xgb.DMatrix(data=x_train[train_index_tr], label=y_train[train_index_tr])\n",
    "        dte = xgb.DMatrix(data=x_train[test_index_tr])\n",
    "        dtest = xgb.DMatrix(data=x_test[test_index_ts])   \n",
    "        \n",
    "        bst = xgb.train(params,dtrain,num_boost_round=num_rounds)\n",
    "        oof_train[test_index_tr] = bst.predict(dte)\n",
    "        oof_test[test_index_ts] = bst.predict(dtest)\n",
    "        \n",
    "    return oof_train.reshape(-1,1),oof_test.reshape(-1,1)"
   ]
  },
  {
   "cell_type": "markdown",
   "metadata": {},
   "source": [
    "### Balancing the classes"
   ]
  },
  {
   "cell_type": "code",
   "execution_count": 18,
   "metadata": {
    "collapsed": true
   },
   "outputs": [],
   "source": [
    "targetValues = data.train[\"target\"].value_counts().index.values\n",
    "numberOfTarget = data.train[\"target\"].value_counts().values"
   ]
  },
  {
   "cell_type": "code",
   "execution_count": 19,
   "metadata": {},
   "outputs": [
    {
     "data": {
      "text/plain": [
       "array([0, 2, 1], dtype=int64)"
      ]
     },
     "execution_count": 19,
     "metadata": {},
     "output_type": "execute_result"
    }
   ],
   "source": [
    "targetValues"
   ]
  },
  {
   "cell_type": "code",
   "execution_count": 20,
   "metadata": {},
   "outputs": [
    {
     "data": {
      "text/plain": [
       "array([98868, 36854, 33585], dtype=int64)"
      ]
     },
     "execution_count": 20,
     "metadata": {},
     "output_type": "execute_result"
    }
   ],
   "source": [
    "numberOfTarget"
   ]
  },
  {
   "cell_type": "markdown",
   "metadata": {},
   "source": [
    "# Let us stack now\n",
    "### Ready the parameters for ensembles"
   ]
  },
  {
   "cell_type": "code",
   "execution_count": 21,
   "metadata": {
    "collapsed": true
   },
   "outputs": [],
   "source": [
    "# Put in our parameters for said classifiers\n",
    "# Random Forest parameters\n",
    "rf_params = {\n",
    "    'n_jobs': -1,\n",
    "    'n_estimators': 500,\n",
    "     'warm_start': True, \n",
    "     #'max_features': 0.2,\n",
    "    'max_depth': 6,\n",
    "    'min_samples_leaf': 50,\n",
    "    'max_features' : 'sqrt',\n",
    "    'verbose': 0\n",
    "}\n",
    "\n",
    "# Extra Trees Parameters\n",
    "et_params = {\n",
    "    'n_jobs': -1,\n",
    "    'n_estimators':500,\n",
    "    #'max_features': 0.5,\n",
    "    'max_depth': 8,\n",
    "    'min_samples_leaf': 50,\n",
    "    'verbose': 0\n",
    "}\n",
    "\n",
    "# AdaBoost parameters\n",
    "ada_params = {\n",
    "    'n_estimators': 500,\n",
    "    'learning_rate' : 0.75,\n",
    "}\n",
    "\n",
    "# Gradient Boosting parameters\n",
    "gb_params = {\n",
    "    'n_estimators': 500,\n",
    "     #'max_features': 0.2,\n",
    "    'max_depth': 5,\n",
    "    'min_samples_leaf': 2,\n",
    "    'verbose': 0,\n",
    "}\n",
    "\n",
    "# Support Vector Classifier parameters \n",
    "svc_params = {\n",
    "    'kernel' : 'rbf',\n",
    "    'C' : 0.025,\n",
    "    }"
   ]
  },
  {
   "cell_type": "code",
   "execution_count": 22,
   "metadata": {
    "collapsed": true
   },
   "outputs": [],
   "source": [
    "import xgboost as xgb\n",
    "\n",
    "\n",
    "class CustomXGboost:\n",
    "\n",
    "    def __init__(self,params, num_boost_round=10, maximize=False):\n",
    "        self.params=params\n",
    "        self.num_boost_round=num_boost_round\n",
    "        self.maximize=maximize\n",
    "        \n",
    "    def fit(self,train,target):\n",
    "        dtrain = xgb.DMatrix(data=train, label=target)        \n",
    "        self.clf = xgb.train(params=params,dtrain=dtrain, num_boost_round=self.num_boost_round, maximize=self.maximize)\n",
    "        return self.clf\n",
    "    \n",
    "    def predict(self,dtest):\n",
    "        dtest=xgb.DMatrix(data=dtest)\n",
    "        return self.clf.predict(dtest)"
   ]
  },
  {
   "cell_type": "code",
   "execution_count": 23,
   "metadata": {
    "collapsed": true
   },
   "outputs": [],
   "source": [
    "# default parameters\n",
    "params1 = {}\n",
    "params1['objective'] = 'multi:softmax'\n",
    "params1['eta'] = 0.01\n",
    "params1['silent'] = True\n",
    "params1['max_depth'] = 6\n",
    "params1['subsample'] = 0.9\n",
    "params1['colsample_bytree'] = 0.9\n",
    "params1['nthread']=-1\n",
    "params1['num_class']=3\n",
    "\n",
    "# default parameters\n",
    "params2 = {}\n",
    "params2['objective'] = 'multi:softmax'\n",
    "params2['eta'] = 0.0075\n",
    "params2['silent'] = True\n",
    "params2['max_depth'] = 6\n",
    "params2['subsample'] = 0.9\n",
    "params2['colsample_bytree'] = 0.9\n",
    "params2['nthread']=-1\n",
    "params2['num_class']=3\n",
    "\n",
    "# default parameters\n",
    "params3 = {}\n",
    "params3['objective'] = 'multi:softmax'\n",
    "params3['eta'] = 0.01\n",
    "params3['silent'] = True\n",
    "params3['max_depth'] = 7\n",
    "params3['subsample'] = 0.9\n",
    "params3['colsample_bytree'] = 0.9\n",
    "params3['nthread']=-1\n",
    "params3['num_class']=3\n",
    "\n",
    "# clf7=CustomXGboost(params=params1,num_boost_round=631,maximize=True)\n",
    "# clf8=CustomXGboost(params=params2,num_boost_round=884,maximize=True)\n",
    "# clf9=CustomXGboost(params=params3,num_boost_round=604,maximize=True)"
   ]
  },
  {
   "cell_type": "code",
   "execution_count": 24,
   "metadata": {
    "collapsed": true
   },
   "outputs": [],
   "source": [
    "# rf = SklearnHelper(clf=RandomForestClassifier, seed=SEED, params=rf_params)\n",
    "# et = SklearnHelper(clf=ExtraTreesClassifier, seed=SEED, params=et_params)\n",
    "# ada = SklearnHelper(clf=AdaBoostClassifier, seed=SEED, params=ada_params)\n",
    "# gb = SklearnHelper(clf=GradientBoostingClassifier, seed=SEED, params=gb_params)\n",
    "# svc = SklearnHelper(clf=SVC, seed=SEED, params=svc_params)"
   ]
  },
  {
   "cell_type": "markdown",
   "metadata": {},
   "source": [
    "# Numpy array for test and train"
   ]
  },
  {
   "cell_type": "code",
   "execution_count": 25,
   "metadata": {
    "collapsed": true
   },
   "outputs": [],
   "source": [
    "y_train = data.train['target'].ravel()\n",
    "train = data.train[data.columns()]\n",
    "x_train = train.values # Creates an array of the train data\n",
    "x_test = data.test[data.columns()].values # Creats an array of the test data"
   ]
  },
  {
   "cell_type": "code",
   "execution_count": 26,
   "metadata": {},
   "outputs": [
    {
     "data": {
      "text/plain": [
       "((169307, 20),\n",
       " Index(['cont_1', 'cont_2', 'cont_3', 'cont_8', 'cont_9', 'cont_10', 'cont_11',\n",
       "        'cont_12', 'cont_13', 'cont_14', 'cat_1', 'cat_2', 'cat_3', 'cat_9',\n",
       "        'cat_20', 'cat_22', 'cat_23', 'cont_17_18_mean', 'cont_15_16_min',\n",
       "        'is_attack_1'],\n",
       "       dtype='object'))"
      ]
     },
     "execution_count": 26,
     "metadata": {},
     "output_type": "execute_result"
    }
   ],
   "source": [
    "x_train.shape,train.columns"
   ]
  },
  {
   "cell_type": "code",
   "execution_count": 27,
   "metadata": {},
   "outputs": [
    {
     "data": {
      "text/plain": [
       "(91166, 20)"
      ]
     },
     "execution_count": 27,
     "metadata": {},
     "output_type": "execute_result"
    }
   ],
   "source": [
    "y_train.shape\n",
    "x_test.shape"
   ]
  },
  {
   "cell_type": "markdown",
   "metadata": {},
   "source": [
    "## First level predection"
   ]
  },
  {
   "cell_type": "code",
   "execution_count": 28,
   "metadata": {
    "collapsed": true
   },
   "outputs": [],
   "source": [
    "xg1_oof_train, xg1_oof_test = get_XGoof(params1,x_train,y_train,x_test,num_rounds=631)"
   ]
  },
  {
   "cell_type": "code",
   "execution_count": 29,
   "metadata": {},
   "outputs": [
    {
     "name": "stdout",
     "output_type": "stream",
     "text": [
      "completed\n"
     ]
    }
   ],
   "source": [
    "xg2_oof_train, xg2_oof_test = get_XGoof(params2,x_train,y_train,x_test,num_rounds=850)\n",
    "print('completed')"
   ]
  },
  {
   "cell_type": "code",
   "execution_count": 30,
   "metadata": {},
   "outputs": [
    {
     "name": "stdout",
     "output_type": "stream",
     "text": [
      "completed\n"
     ]
    }
   ],
   "source": [
    "xg3_oof_train, xg3_oof_test = get_XGoof(params3,x_train,y_train,x_test,num_rounds=604)\n",
    "print('completed')"
   ]
  },
  {
   "cell_type": "code",
   "execution_count": null,
   "metadata": {
    "collapsed": true
   },
   "outputs": [],
   "source": []
  },
  {
   "cell_type": "code",
   "execution_count": 31,
   "metadata": {},
   "outputs": [
    {
     "data": {
      "text/html": [
       "<div>\n",
       "<style>\n",
       "    .dataframe thead tr:only-child th {\n",
       "        text-align: right;\n",
       "    }\n",
       "\n",
       "    .dataframe thead th {\n",
       "        text-align: left;\n",
       "    }\n",
       "\n",
       "    .dataframe tbody tr th {\n",
       "        vertical-align: top;\n",
       "    }\n",
       "</style>\n",
       "<table border=\"1\" class=\"dataframe\">\n",
       "  <thead>\n",
       "    <tr style=\"text-align: right;\">\n",
       "      <th></th>\n",
       "      <th>XGB1</th>\n",
       "      <th>XGB2</th>\n",
       "      <th>XGB3</th>\n",
       "    </tr>\n",
       "  </thead>\n",
       "  <tbody>\n",
       "    <tr>\n",
       "      <th>0</th>\n",
       "      <td>0.0</td>\n",
       "      <td>0.0</td>\n",
       "      <td>0.0</td>\n",
       "    </tr>\n",
       "    <tr>\n",
       "      <th>1</th>\n",
       "      <td>0.0</td>\n",
       "      <td>0.0</td>\n",
       "      <td>0.0</td>\n",
       "    </tr>\n",
       "    <tr>\n",
       "      <th>2</th>\n",
       "      <td>0.0</td>\n",
       "      <td>0.0</td>\n",
       "      <td>0.0</td>\n",
       "    </tr>\n",
       "    <tr>\n",
       "      <th>3</th>\n",
       "      <td>0.0</td>\n",
       "      <td>0.0</td>\n",
       "      <td>0.0</td>\n",
       "    </tr>\n",
       "    <tr>\n",
       "      <th>4</th>\n",
       "      <td>0.0</td>\n",
       "      <td>0.0</td>\n",
       "      <td>0.0</td>\n",
       "    </tr>\n",
       "  </tbody>\n",
       "</table>\n",
       "</div>"
      ],
      "text/plain": [
       "   XGB1  XGB2  XGB3\n",
       "0   0.0   0.0   0.0\n",
       "1   0.0   0.0   0.0\n",
       "2   0.0   0.0   0.0\n",
       "3   0.0   0.0   0.0\n",
       "4   0.0   0.0   0.0"
      ]
     },
     "execution_count": 31,
     "metadata": {},
     "output_type": "execute_result"
    }
   ],
   "source": [
    "base_predictions_train = pd.DataFrame( {'XGB1': xg1_oof_train.ravel(),\n",
    "     'XGB2': xg2_oof_train.ravel(),\n",
    "     'XGB3': xg3_oof_train.ravel()})\n",
    "base_predictions_train.head()"
   ]
  },
  {
   "cell_type": "code",
   "execution_count": 32,
   "metadata": {},
   "outputs": [
    {
     "data": {
      "text/html": [
       "<div>\n",
       "<style>\n",
       "    .dataframe thead tr:only-child th {\n",
       "        text-align: right;\n",
       "    }\n",
       "\n",
       "    .dataframe thead th {\n",
       "        text-align: left;\n",
       "    }\n",
       "\n",
       "    .dataframe tbody tr th {\n",
       "        vertical-align: top;\n",
       "    }\n",
       "</style>\n",
       "<table border=\"1\" class=\"dataframe\">\n",
       "  <thead>\n",
       "    <tr style=\"text-align: right;\">\n",
       "      <th></th>\n",
       "      <th>XGB1</th>\n",
       "      <th>XGB2</th>\n",
       "      <th>XGB3</th>\n",
       "    </tr>\n",
       "  </thead>\n",
       "  <tbody>\n",
       "    <tr>\n",
       "      <th>0</th>\n",
       "      <td>1.0</td>\n",
       "      <td>1.0</td>\n",
       "      <td>1.0</td>\n",
       "    </tr>\n",
       "    <tr>\n",
       "      <th>1</th>\n",
       "      <td>0.0</td>\n",
       "      <td>0.0</td>\n",
       "      <td>0.0</td>\n",
       "    </tr>\n",
       "    <tr>\n",
       "      <th>2</th>\n",
       "      <td>0.0</td>\n",
       "      <td>0.0</td>\n",
       "      <td>0.0</td>\n",
       "    </tr>\n",
       "    <tr>\n",
       "      <th>3</th>\n",
       "      <td>0.0</td>\n",
       "      <td>0.0</td>\n",
       "      <td>0.0</td>\n",
       "    </tr>\n",
       "    <tr>\n",
       "      <th>4</th>\n",
       "      <td>0.0</td>\n",
       "      <td>0.0</td>\n",
       "      <td>0.0</td>\n",
       "    </tr>\n",
       "  </tbody>\n",
       "</table>\n",
       "</div>"
      ],
      "text/plain": [
       "   XGB1  XGB2  XGB3\n",
       "0   1.0   1.0   1.0\n",
       "1   0.0   0.0   0.0\n",
       "2   0.0   0.0   0.0\n",
       "3   0.0   0.0   0.0\n",
       "4   0.0   0.0   0.0"
      ]
     },
     "execution_count": 32,
     "metadata": {},
     "output_type": "execute_result"
    }
   ],
   "source": [
    "base_predictions_test = pd.DataFrame( {'XGB1': xg1_oof_test.ravel(),\n",
    "     'XGB2': xg2_oof_test.ravel(),\n",
    "     'XGB3': xg3_oof_test.ravel()})\n",
    "base_predictions_test.head()"
   ]
  },
  {
   "cell_type": "code",
   "execution_count": 33,
   "metadata": {},
   "outputs": [
    {
     "data": {
      "text/plain": [
       "0.0    72909\n",
       "1.0    18217\n",
       "2.0       40\n",
       "Name: XGB1, dtype: int64"
      ]
     },
     "execution_count": 33,
     "metadata": {},
     "output_type": "execute_result"
    }
   ],
   "source": [
    "base_predictions_test['XGB1'].value_counts()"
   ]
  },
  {
   "cell_type": "code",
   "execution_count": 34,
   "metadata": {},
   "outputs": [
    {
     "data": {
      "text/plain": [
       "0.0    135356\n",
       "1.0     33882\n",
       "2.0        69\n",
       "Name: XGB1, dtype: int64"
      ]
     },
     "execution_count": 34,
     "metadata": {},
     "output_type": "execute_result"
    }
   ],
   "source": [
    "base_predictions_train['XGB1'].value_counts()"
   ]
  },
  {
   "cell_type": "markdown",
   "metadata": {},
   "source": [
    "# Lets see the corelearion of new features generated"
   ]
  },
  {
   "cell_type": "code",
   "execution_count": 35,
   "metadata": {
    "collapsed": true
   },
   "outputs": [],
   "source": [
    "def plotHeatMap(df, size=(16,9),an=True):\n",
    "    plt.figure(figsize=size)\n",
    "    cmap = plt.cm.viridis\n",
    "    sns.heatmap(df.corr(),cmap=cmap,linewidths=0.1,vmax=1, linecolor=\"white\", square=True,annot=an)\n",
    "    plt.show()"
   ]
  },
  {
   "cell_type": "code",
   "execution_count": 36,
   "metadata": {},
   "outputs": [
    {
     "data": {
      "image/png": "[encoded data removed]",
      "text/plain": [
       "<matplotlib.figure.Figure at 0x14e97949860>"
      ]
     },
     "metadata": {},
     "output_type": "display_data"
    }
   ],
   "source": [
    "plotHeatMap(base_predictions_train)"
   ]
  },
  {
   "cell_type": "code",
   "execution_count": 37,
   "metadata": {
    "collapsed": true
   },
   "outputs": [],
   "source": [
    "x_train = np.concatenate(( xg1_oof_train, xg2_oof_train, xg3_oof_train), axis=1)\n",
    "x_test = np.concatenate(( xg1_oof_test, xg2_oof_test, xg3_oof_test), axis=1)"
   ]
  },
  {
   "cell_type": "code",
   "execution_count": 38,
   "metadata": {
    "collapsed": true
   },
   "outputs": [],
   "source": [
    "import xgboost as xgb"
   ]
  },
  {
   "cell_type": "code",
   "execution_count": 39,
   "metadata": {
    "collapsed": true
   },
   "outputs": [],
   "source": [
    "params = {}\n",
    "params['objective'] = 'multi:softmax'\n",
    "params['eta'] = 0.01\n",
    "params['silent'] = True\n",
    "params['max_depth'] = 6\n",
    "params['subsample'] = 0.9\n",
    "params['colsample_bytree'] = 0.9\n",
    "params['nthread']=-1\n",
    "params['num_class']=3"
   ]
  },
  {
   "cell_type": "code",
   "execution_count": 40,
   "metadata": {
    "collapsed": true
   },
   "outputs": [],
   "source": [
    "dtrain = xgb.DMatrix(data=x_train, label=y_train)\n",
    "dtest = xgb.DMatrix(data=x_test)"
   ]
  },
  {
   "cell_type": "code",
   "execution_count": 41,
   "metadata": {
    "collapsed": true
   },
   "outputs": [],
   "source": [
    "clf1_2 = xgb.train(params, dtrain, 631,maximize=True)"
   ]
  },
  {
   "cell_type": "code",
   "execution_count": 42,
   "metadata": {
    "collapsed": true
   },
   "outputs": [],
   "source": [
    "pred = clf1_2.predict(dtest)"
   ]
  },
  {
   "cell_type": "code",
   "execution_count": 43,
   "metadata": {},
   "outputs": [
    {
     "name": "stdout",
     "output_type": "stream",
     "text": [
      "Completed\n"
     ]
    }
   ],
   "source": [
    "print('Completed')"
   ]
  },
  {
   "cell_type": "code",
   "execution_count": 44,
   "metadata": {},
   "outputs": [
    {
     "data": {
      "text/plain": [
       "(91166,)"
      ]
     },
     "execution_count": 44,
     "metadata": {},
     "output_type": "execute_result"
    }
   ],
   "source": [
    "pred.shape"
   ]
  },
  {
   "cell_type": "code",
   "execution_count": 45,
   "metadata": {
    "collapsed": true
   },
   "outputs": [],
   "source": [
    "sub = pd.read_csv('test_data.csv')\n",
    "sub['target'] = pred\n",
    "sub['target'] = sub['target'].astype(int)\n",
    "sub[['connection_id','target']].to_csv('FirstOwnStack1.csv', index=False)"
   ]
  },
  {
   "cell_type": "code",
   "execution_count": 46,
   "metadata": {
    "collapsed": true
   },
   "outputs": [],
   "source": [
    "import pickle\n",
    "pickle.dump(clf1_2,open('stacked_clf_xgb_meta.sav','wb'))"
   ]
  },
  {
   "cell_type": "code",
   "execution_count": null,
   "metadata": {
    "collapsed": true
   },
   "outputs": [],
   "source": [
    "pred"
   ]
  },
  {
   "cell_type": "code",
   "execution_count": null,
   "metadata": {
    "collapsed": true
   },
   "outputs": [],
   "source": [
    "pred.head()"
   ]
  },
  {
   "cell_type": "code",
   "execution_count": 104,
   "metadata": {},
   "outputs": [
    {
     "data": {
      "text/plain": [
       "Index(['connection_id', 'cont_1', 'cont_2', 'cont_3', 'cont_8', 'cont_9',\n",
       "       'cont_11', 'cont_12', 'cont_13', 'cont_14', 'cat_2', 'cat_3', 'cat_20',\n",
       "       'cat_22', 'cat_23', 'target', 'cont_17_18_mean', 'cont_15_16_min',\n",
       "       'is_attack_1'],\n",
       "      dtype='object')"
      ]
     },
     "execution_count": 104,
     "metadata": {},
     "output_type": "execute_result"
    }
   ],
   "source": [
    "data.train.columns"
   ]
  },
  {
   "cell_type": "code",
   "execution_count": 107,
   "metadata": {
    "collapsed": true
   },
   "outputs": [],
   "source": [
    "data.train.to_csv('bestTrain.csv',index=None)\n",
    "data.test.to_csv('bestTest.csv',index=None)"
   ]
  },
  {
   "cell_type": "code",
   "execution_count": 106,
   "metadata": {},
   "outputs": [
    {
     "data": {
      "text/plain": [
       "Index(['connection_id', 'cont_1', 'cont_2', 'cont_3', 'cont_8', 'cont_9',\n",
       "       'cont_11', 'cont_12', 'cont_13', 'cont_14', 'cat_2', 'cat_3', 'cat_20',\n",
       "       'cat_22', 'cat_23', 'target', 'cont_17_18_mean', 'cont_15_16_min',\n",
       "       'is_attack_1'],\n",
       "      dtype='object')"
      ]
     },
     "execution_count": 106,
     "metadata": {},
     "output_type": "execute_result"
    }
   ],
   "source": [
    "pd.read_csv('bestTrain.csv').columns"
   ]
  }
 ],
 "metadata": {
  "kernelspec": {
   "display_name": "Python 3",
   "language": "python",
   "name": "python3"
  },
  "language_info": {
   "codemirror_mode": {
    "name": "ipython",
    "version": 3
   },
   "file_extension": ".py",
   "mimetype": "text/x-python",
   "name": "python",
   "nbconvert_exporter": "python",
   "pygments_lexer": "ipython3",
   "version": "3.6.3"
  }
 },
 "nbformat": 4,
 "nbformat_minor": 2
}
